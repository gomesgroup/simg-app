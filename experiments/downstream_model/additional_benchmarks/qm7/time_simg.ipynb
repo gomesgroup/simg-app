{
 "cells": [
  {
   "cell_type": "code",
   "execution_count": 1,
   "outputs": [],
   "source": [
    "import sys\n",
    "sys.path.append('/home/dboiko/simg-2')\n",
    "\n",
    "import os\n",
    "os.chdir('/home/dboiko/simg-2')"
   ],
   "metadata": {
    "collapsed": false,
    "ExecuteTime": {
     "end_time": "2024-11-18T15:54:36.587124Z",
     "start_time": "2024-11-18T15:54:36.586525Z"
    }
   }
  },
  {
   "cell_type": "code",
   "execution_count": 2,
   "metadata": {
    "collapsed": true,
    "ExecuteTime": {
     "end_time": "2024-11-18T15:54:37.257786Z",
     "start_time": "2024-11-18T15:54:37.257109Z"
    }
   },
   "outputs": [],
   "source": [
    "PATH = '/home/dboiko/simg/new_xyzs/xyz/'"
   ]
  },
  {
   "cell_type": "code",
   "execution_count": 3,
   "outputs": [
    {
     "name": "stderr",
     "output_type": "stream",
     "text": [
      "/home/dboiko/.conda/envs/nbo/lib/python3.8/site-packages/tqdm/auto.py:22: TqdmWarning: IProgress not found. Please update jupyter and ipywidgets. See https://ipywidgets.readthedocs.io/en/stable/user_install.html\n",
      "  from .autonotebook import tqdm as notebook_tqdm\n"
     ]
    },
    {
     "name": "stdout",
     "output_type": "stream",
     "text": [
      "Using full GNN model\n",
      "Stacking all GNN layer outputs\n"
     ]
    }
   ],
   "source": [
    "import time\n",
    "import logging\n",
    "logging.basicConfig(level=logging.ERROR)\n",
    "\n",
    "import numpy as np\n",
    "\n",
    "import torch\n",
    "\n",
    "from simg.model_utils import pipeline\n",
    "from simg.data import get_connectivity_info\n",
    "from simg.graph_construction import convert_NBO_graph_to_downstream\n",
    "\n",
    "def xyz_to_graph(xyz_path, target, type_):\n",
    "    with open(xyz_path, \"r\") as f:\n",
    "        xyz = f.read()\n",
    "\n",
    "    xyz_data = [l + '\\n' for l in xyz.split('\\n')[2:-1]]\n",
    "    symbols = [l.split()[0] for l in xyz_data]\n",
    "    coordinates = np.array([[float(num) for num in l.strip().split()[1:]] for l in xyz_data])\n",
    "    connectivity = get_connectivity_info(xyz_data)\n",
    "\n",
    "    graph, _, _, (a2b_preds, node_preds, int_preds) = pipeline(symbols, coordinates, connectivity, use_threshold=False)\n",
    "\n",
    "    graph.y = torch.FloatTensor(node_preds)\n",
    "    graph.a2b_targets = torch.FloatTensor(a2b_preds)\n",
    "    graph.interaction_targets = torch.FloatTensor(int_preds)\n",
    "    graph.qm9_id = xyz_path.split('/')[-1].split('.')[0]\n",
    "\n",
    "    graph.type = type_\n",
    "    graph.normalized_targets = torch.FloatTensor([target])\n",
    "    graph = convert_NBO_graph_to_downstream(graph)\n",
    "\n",
    "    return graph, len(symbols)"
   ],
   "metadata": {
    "collapsed": false,
    "ExecuteTime": {
     "end_time": "2024-11-18T15:54:40.207573Z",
     "start_time": "2024-11-18T15:54:37.692299Z"
    }
   }
  },
  {
   "cell_type": "code",
   "execution_count": 4,
   "outputs": [],
   "source": [
    "from tqdm.auto import tqdm, trange"
   ],
   "metadata": {
    "collapsed": false,
    "ExecuteTime": {
     "end_time": "2024-11-18T15:54:42.377099Z",
     "start_time": "2024-11-18T15:54:42.376525Z"
    }
   }
  },
  {
   "cell_type": "code",
   "execution_count": 5,
   "outputs": [
    {
     "name": "stderr",
     "output_type": "stream",
     "text": [
      "  0%|                                                                                                                        | 0/15 [00:00<?, ?it/s]"
     ]
    },
    {
     "name": "stdout",
     "output_type": "stream",
     "text": [
      "0/15\n"
     ]
    },
    {
     "name": "stderr",
     "output_type": "stream",
     "text": [
      "  7%|███████▍                                                                                                        | 1/15 [00:01<00:15,  1.07s/it]"
     ]
    },
    {
     "name": "stdout",
     "output_type": "stream",
     "text": [
      "1/15\n"
     ]
    },
    {
     "name": "stderr",
     "output_type": "stream",
     "text": [
      " 13%|██████████████▉                                                                                                 | 2/15 [00:05<00:39,  3.01s/it]"
     ]
    },
    {
     "name": "stdout",
     "output_type": "stream",
     "text": [
      "2/15\n"
     ]
    },
    {
     "name": "stderr",
     "output_type": "stream",
     "text": [
      " 20%|██████████████████████▍                                                                                         | 3/15 [00:07<00:29,  2.46s/it]"
     ]
    },
    {
     "name": "stdout",
     "output_type": "stream",
     "text": [
      "3/15\n"
     ]
    },
    {
     "name": "stderr",
     "output_type": "stream",
     "text": [
      " 27%|█████████████████████████████▊                                                                                  | 4/15 [00:10<00:29,  2.67s/it]"
     ]
    },
    {
     "name": "stdout",
     "output_type": "stream",
     "text": [
      "4/15\n"
     ]
    },
    {
     "name": "stderr",
     "output_type": "stream",
     "text": [
      " 33%|█████████████████████████████████████▎                                                                          | 5/15 [00:11<00:22,  2.25s/it]"
     ]
    },
    {
     "name": "stdout",
     "output_type": "stream",
     "text": [
      "5/15\n"
     ]
    },
    {
     "name": "stderr",
     "output_type": "stream",
     "text": [
      " 40%|████████████████████████████████████████████▊                                                                   | 6/15 [00:14<00:22,  2.45s/it]"
     ]
    },
    {
     "name": "stdout",
     "output_type": "stream",
     "text": [
      "6/15\n"
     ]
    },
    {
     "name": "stderr",
     "output_type": "stream",
     "text": [
      " 47%|████████████████████████████████████████████████████▎                                                           | 7/15 [00:15<00:15,  1.91s/it]"
     ]
    },
    {
     "name": "stdout",
     "output_type": "stream",
     "text": [
      "7/15\n"
     ]
    },
    {
     "name": "stderr",
     "output_type": "stream",
     "text": [
      " 53%|███████████████████████████████████████████████████████████▋                                                    | 8/15 [00:16<00:11,  1.64s/it]"
     ]
    },
    {
     "name": "stdout",
     "output_type": "stream",
     "text": [
      "8/15\n"
     ]
    },
    {
     "name": "stderr",
     "output_type": "stream",
     "text": [
      " 60%|███████████████████████████████████████████████████████████████████▏                                            | 9/15 [00:18<00:10,  1.72s/it]"
     ]
    },
    {
     "name": "stdout",
     "output_type": "stream",
     "text": [
      "9/15\n"
     ]
    },
    {
     "name": "stderr",
     "output_type": "stream",
     "text": [
      " 67%|██████████████████████████████████████████████████████████████████████████                                     | 10/15 [00:20<00:08,  1.80s/it]"
     ]
    },
    {
     "name": "stdout",
     "output_type": "stream",
     "text": [
      "10/15\n"
     ]
    },
    {
     "name": "stderr",
     "output_type": "stream",
     "text": [
      " 73%|█████████████████████████████████████████████████████████████████████████████████▍                             | 11/15 [00:27<00:13,  3.30s/it]"
     ]
    },
    {
     "name": "stdout",
     "output_type": "stream",
     "text": [
      "11/15\n"
     ]
    },
    {
     "name": "stderr",
     "output_type": "stream",
     "text": [
      " 80%|████████████████████████████████████████████████████████████████████████████████████████▊                      | 12/15 [00:27<00:07,  2.56s/it]"
     ]
    },
    {
     "name": "stdout",
     "output_type": "stream",
     "text": [
      "12/15\n"
     ]
    },
    {
     "name": "stderr",
     "output_type": "stream",
     "text": [
      " 87%|████████████████████████████████████████████████████████████████████████████████████████████████▏              | 13/15 [00:29<00:04,  2.18s/it]"
     ]
    },
    {
     "name": "stdout",
     "output_type": "stream",
     "text": [
      "13/15\n"
     ]
    },
    {
     "name": "stderr",
     "output_type": "stream",
     "text": [
      " 93%|███████████████████████████████████████████████████████████████████████████████████████████████████████▌       | 14/15 [00:29<00:01,  1.76s/it]"
     ]
    },
    {
     "name": "stdout",
     "output_type": "stream",
     "text": [
      "14/15\n"
     ]
    },
    {
     "name": "stderr",
     "output_type": "stream",
     "text": [
      "100%|███████████████████████████████████████████████████████████████████████████████████████████████████████████████| 15/15 [00:34<00:00,  2.30s/it]\n"
     ]
    }
   ],
   "source": [
    "xyzs = os.listdir(PATH)\n",
    "ATTEMPTS = 10\n",
    "\n",
    "results = []\n",
    "\n",
    "for i, xyz in enumerate(tqdm(xyzs)):\n",
    "    print(f'{i}/{len(xyzs)}')\n",
    "    for _ in range(ATTEMPTS):\n",
    "        time_0 = time.time()\n",
    "        graph, n_atoms = xyz_to_graph(PATH + xyz, 0, 'train')\n",
    "        time_1 = time.time()\n",
    "\n",
    "        results.append((xyz, n_atoms, time_1 - time_0))"
   ],
   "metadata": {
    "collapsed": false,
    "ExecuteTime": {
     "end_time": "2024-11-18T15:55:17.479133Z",
     "start_time": "2024-11-18T15:54:42.941820Z"
    }
   }
  },
  {
   "cell_type": "code",
   "execution_count": 6,
   "outputs": [],
   "source": [
    "import pandas as pd\n",
    "\n",
    "df = pd.DataFrame(results, columns=['path', 'n_atoms', 'time']).groupby('path').mean().reset_index()"
   ],
   "metadata": {
    "collapsed": false,
    "ExecuteTime": {
     "end_time": "2024-11-18T15:55:34.553731Z",
     "start_time": "2024-11-18T15:55:34.553148Z"
    }
   }
  },
  {
   "cell_type": "code",
   "execution_count": 7,
   "outputs": [
    {
     "data": {
      "text/plain": "<matplotlib.collections.PathCollection at 0x7f009c1141c0>"
     },
     "execution_count": 7,
     "metadata": {},
     "output_type": "execute_result"
    },
    {
     "data": {
      "text/plain": "<Figure size 432x288 with 1 Axes>",
      "image/png": "[encoded data removed]"
     },
     "metadata": {
      "needs_background": "light"
     },
     "output_type": "display_data"
    }
   ],
   "source": [
    "import matplotlib.pyplot as plt\n",
    "\n",
    "plt.scatter(df['n_atoms'], df['time'])"
   ],
   "metadata": {
    "collapsed": false,
    "ExecuteTime": {
     "end_time": "2024-11-18T15:55:36.080854Z",
     "start_time": "2024-11-18T15:55:35.099207Z"
    }
   }
  },
  {
   "cell_type": "code",
   "execution_count": 11,
   "outputs": [],
   "source": [
    "import pickle as pkl\n",
    "\n",
    "with open('/home/dboiko/SPAHM/code/times.pkl', 'rb') as f:\n",
    "    times = pd.DataFrame(pkl.load(f), columns=['xyz', 'time']).groupby('xyz').mean().reset_index()"
   ],
   "metadata": {
    "collapsed": false,
    "ExecuteTime": {
     "end_time": "2024-11-18T15:55:56.667845Z",
     "start_time": "2024-11-18T15:55:56.665122Z"
    }
   }
  },
  {
   "cell_type": "code",
   "execution_count": 12,
   "outputs": [
    {
     "data": {
      "text/plain": "                          xyz      time\n0                    1n6t.xyz  0.903944\n1                    2gfr.xyz  1.052183\n2                    2n0v.xyz  0.532768\n3            amitriptilin.xyz  0.221570\n4   coproporphyrinogenIII.xyz  0.394237\n5               donepezil.xyz  0.234596\n6               fluoxetin.xyz  0.209907\n7             gisenosides.xyz  0.305801\n8                 morphin.xyz  0.229657\n9               natamycin.xyz  0.368499\n10           nicofuranose.xyz  0.315828\n11                sacrose.xyz  0.217835\n12                  taxol.xyz  0.531805",
      "text/html": "<div>\n<style scoped>\n    .dataframe tbody tr th:only-of-type {\n        vertical-align: middle;\n    }\n\n    .dataframe tbody tr th {\n        vertical-align: top;\n    }\n\n    .dataframe thead th {\n        text-align: right;\n    }\n</style>\n<table border=\"1\" class=\"dataframe\">\n  <thead>\n    <tr style=\"text-align: right;\">\n      <th></th>\n      <th>xyz</th>\n      <th>time</th>\n    </tr>\n  </thead>\n  <tbody>\n    <tr>\n      <th>0</th>\n      <td>1n6t.xyz</td>\n      <td>0.903944</td>\n    </tr>\n    <tr>\n      <th>1</th>\n      <td>2gfr.xyz</td>\n      <td>1.052183</td>\n    </tr>\n    <tr>\n      <th>2</th>\n      <td>2n0v.xyz</td>\n      <td>0.532768</td>\n    </tr>\n    <tr>\n      <th>3</th>\n      <td>amitriptilin.xyz</td>\n      <td>0.221570</td>\n    </tr>\n    <tr>\n      <th>4</th>\n      <td>coproporphyrinogenIII.xyz</td>\n      <td>0.394237</td>\n    </tr>\n    <tr>\n      <th>5</th>\n      <td>donepezil.xyz</td>\n      <td>0.234596</td>\n    </tr>\n    <tr>\n      <th>6</th>\n      <td>fluoxetin.xyz</td>\n      <td>0.209907</td>\n    </tr>\n    <tr>\n      <th>7</th>\n      <td>gisenosides.xyz</td>\n      <td>0.305801</td>\n    </tr>\n    <tr>\n      <th>8</th>\n      <td>morphin.xyz</td>\n      <td>0.229657</td>\n    </tr>\n    <tr>\n      <th>9</th>\n      <td>natamycin.xyz</td>\n      <td>0.368499</td>\n    </tr>\n    <tr>\n      <th>10</th>\n      <td>nicofuranose.xyz</td>\n      <td>0.315828</td>\n    </tr>\n    <tr>\n      <th>11</th>\n      <td>sacrose.xyz</td>\n      <td>0.217835</td>\n    </tr>\n    <tr>\n      <th>12</th>\n      <td>taxol.xyz</td>\n      <td>0.531805</td>\n    </tr>\n  </tbody>\n</table>\n</div>"
     },
     "execution_count": 12,
     "metadata": {},
     "output_type": "execute_result"
    }
   ],
   "source": [
    "times"
   ],
   "metadata": {
    "collapsed": false,
    "ExecuteTime": {
     "end_time": "2024-11-18T15:55:57.177038Z",
     "start_time": "2024-11-18T15:55:57.175499Z"
    }
   }
  },
  {
   "cell_type": "code",
   "execution_count": 15,
   "outputs": [],
   "source": [
    "merged_times = df.merge(times, left_on='path', right_on='xyz', how='outer')"
   ],
   "metadata": {
    "collapsed": false,
    "ExecuteTime": {
     "end_time": "2024-11-18T15:56:20.878949Z",
     "start_time": "2024-11-18T15:56:20.808543Z"
    }
   }
  },
  {
   "cell_type": "code",
   "execution_count": 30,
   "outputs": [],
   "source": [
    "plt.rcParams[\"font.family\"] = \"sans-serif\"\n",
    "plt.rcParams[\"font.sans-serif\"] = [\"Arial\"]\n",
    "\n",
    "plt.rcParams[\"pdf.fonttype\"] = 42\n"
   ],
   "metadata": {
    "collapsed": false,
    "ExecuteTime": {
     "end_time": "2024-11-18T15:58:23.958659Z",
     "start_time": "2024-11-18T15:58:23.957943Z"
    }
   }
  },
  {
   "cell_type": "code",
   "execution_count": 44,
   "outputs": [
    {
     "data": {
      "text/plain": "<Figure size 288x432 with 1 Axes>",
      "image/png": "[encoded data removed]"
     },
     "metadata": {
      "needs_background": "light"
     },
     "output_type": "display_data"
    }
   ],
   "source": [
    "plt.figure(figsize=(4, 6))\n",
    "plt.scatter(\n",
    "    merged_times['n_atoms'],\n",
    "    merged_times['time_x'],\n",
    "    label='SIMG*',\n",
    ")\n",
    "\n",
    "plt.scatter(\n",
    "    merged_times['n_atoms'],\n",
    "    merged_times['time_y'],\n",
    "    label='SPAHM',\n",
    ")\n",
    "plt.xlabel('Number of atoms')\n",
    "plt.ylabel('Inference time, s')\n",
    "\n",
    "plt.gca().spines['top'].set_visible(False)\n",
    "plt.gca().spines['right'].set_visible(False)\n",
    "plt.ylim(0, 1.2)\n",
    "plt.legend(frameon=False, loc='upper left')\n",
    "plt.savefig('/home/dboiko/simg_vs_spahm_time.pdf', dpi=300, bbox_inches='tight')"
   ],
   "metadata": {
    "collapsed": false,
    "ExecuteTime": {
     "end_time": "2024-11-18T16:23:37.518847Z",
     "start_time": "2024-11-18T16:23:37.176252Z"
    }
   }
  },
  {
   "cell_type": "code",
   "execution_count": 10,
   "outputs": [],
   "source": [
    "df.to_csv(\n",
    "    'simg_xyz_time_2.csv',\n",
    ")"
   ],
   "metadata": {
    "collapsed": false,
    "ExecuteTime": {
     "end_time": "2024-11-18T15:55:51.323615Z",
     "start_time": "2024-11-18T15:55:51.322502Z"
    }
   }
  },
  {
   "cell_type": "code",
   "execution_count": null,
   "outputs": [],
   "source": [],
   "metadata": {
    "collapsed": false
   }
  }
 ],
 "metadata": {
  "kernelspec": {
   "display_name": "Python 3",
   "language": "python",
   "name": "python3"
  },
  "language_info": {
   "codemirror_mode": {
    "name": "ipython",
    "version": 2
   },
   "file_extension": ".py",
   "mimetype": "text/x-python",
   "name": "python",
   "nbconvert_exporter": "python",
   "pygments_lexer": "ipython2",
   "version": "2.7.6"
  }
 },
 "nbformat": 4,
 "nbformat_minor": 0
}
