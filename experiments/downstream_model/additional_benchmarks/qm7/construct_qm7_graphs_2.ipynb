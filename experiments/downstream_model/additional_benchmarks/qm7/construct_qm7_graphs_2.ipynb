{
 "cells": [
  {
   "cell_type": "code",
   "execution_count": 14,
   "metadata": {
    "collapsed": true,
    "ExecuteTime": {
     "end_time": "2024-11-18T15:31:22.815162Z",
     "start_time": "2024-11-18T15:31:22.747287Z"
    }
   },
   "outputs": [],
   "source": [
    "import sys\n",
    "sys.path.append('/home/dboiko/simg-2')\n",
    "\n",
    "import os\n",
    "os.chdir('/home/dboiko/simg-2')"
   ]
  },
  {
   "cell_type": "code",
   "execution_count": 6,
   "outputs": [],
   "source": [
    "import logging\n",
    "logging.basicConfig(level=logging.ERROR)\n",
    "\n",
    "from tqdm.auto import tqdm\n",
    "import numpy as np\n",
    "import pandas as pd\n",
    "\n",
    "import torch\n",
    "\n",
    "from simg.model_utils import pipeline\n",
    "from simg.data import get_connectivity_info\n",
    "from simg.graph_construction import convert_NBO_graph_to_downstream\n",
    "\n",
    "QM7_GRAPH_PATH = \"/home/dboiko/SPAHM/SPAHM/1_QM7/xyz\"\n",
    "\n",
    "def xyz_to_graph(xyz_path, target, type_):\n",
    "    with open(xyz_path, \"r\") as f:\n",
    "        xyz = f.read()\n",
    "\n",
    "    xyz_data = [l + '\\n' for l in xyz.split('\\n')[2:-1]]\n",
    "    symbols = [l.split()[0] for l in xyz_data]\n",
    "    coordinates = np.array([[float(num) for num in l.strip().split()[1:]] for l in xyz_data])\n",
    "    connectivity = get_connectivity_info(xyz_data)\n",
    "\n",
    "    graph, _, _, (a2b_preds, node_preds, int_preds) = pipeline(symbols, coordinates, connectivity, use_threshold=False)\n",
    "\n",
    "    graph.y = torch.FloatTensor(node_preds)\n",
    "    graph.a2b_targets = torch.FloatTensor(a2b_preds)\n",
    "    graph.interaction_targets = torch.FloatTensor(int_preds)\n",
    "    graph.qm9_id = xyz_path.split('/')[-1].split('.')[0]\n",
    "\n",
    "    graph.type = type_\n",
    "    graph.normalized_targets = torch.FloatTensor([target])\n",
    "    graph = convert_NBO_graph_to_downstream(graph)\n",
    "\n",
    "    return graph"
   ],
   "metadata": {
    "collapsed": false,
    "ExecuteTime": {
     "end_time": "2024-11-08T06:33:17.900020Z",
     "start_time": "2024-11-08T06:33:17.898180Z"
    }
   }
  },
  {
   "cell_type": "code",
   "execution_count": 7,
   "outputs": [
    {
     "name": "stderr",
     "output_type": "stream",
     "text": [
      "100%|███████████████████████████████████████████████████████████████████████████████████████████████████████████| 7165/7165 [05:17<00:00, 22.55it/s]\n"
     ]
    }
   ],
   "source": [
    "all_graphs = []\n",
    "for file in tqdm(os.listdir(QM7_GRAPH_PATH)):\n",
    "    if not file.endswith('.xyz'):\n",
    "        continue\n",
    "    all_graphs.append(\n",
    "        xyz_to_graph(os.path.join(QM7_GRAPH_PATH, file), 0, 'train')\n",
    "    )"
   ],
   "metadata": {
    "collapsed": false,
    "ExecuteTime": {
     "end_time": "2024-11-08T06:38:38.007639Z",
     "start_time": "2024-11-08T06:33:20.230398Z"
    }
   }
  },
  {
   "cell_type": "code",
   "execution_count": 8,
   "outputs": [],
   "source": [
    "torch.save(\n",
    "    all_graphs,\n",
    "    '/home/dboiko/reproducing_experiments/qm7_graphs_from_repo.pt'\n",
    ")"
   ],
   "metadata": {
    "collapsed": false,
    "ExecuteTime": {
     "end_time": "2024-11-08T06:38:51.740614Z",
     "start_time": "2024-11-08T06:38:37.983019Z"
    }
   }
  },
  {
   "cell_type": "code",
   "execution_count": 13,
   "outputs": [
    {
     "data": {
      "text/plain": "[1892,\n 3754,\n 834,\n 4871,\n 257,\n 2396,\n 4339,\n 635,\n 451,\n 882,\n 5052,\n 864,\n 1644,\n 5803,\n 2913,\n 2310,\n 311,\n 3039,\n 462,\n 2004,\n 5063,\n 6510,\n 5676,\n 4818,\n 1278,\n 6350,\n 521,\n 5625,\n 6759,\n 4766,\n 916,\n 4757,\n 6106,\n 2591,\n 1294,\n 4616,\n 4252,\n 3194,\n 202,\n 2175,\n 2735,\n 4639,\n 6887,\n 3616,\n 7099,\n 2232,\n 394,\n 2241,\n 5959,\n 1788,\n 2853,\n 2738,\n 4793,\n 3509,\n 1736,\n 3060,\n 4486,\n 3579,\n 963,\n 3648,\n 2806,\n 5422,\n 6015,\n 3453,\n 6724,\n 6523,\n 134,\n 3266,\n 217,\n 976,\n 2447,\n 5789,\n 6157,\n 1861,\n 1379,\n 3803,\n 200,\n 1702,\n 4076,\n 5506,\n 6283,\n 1718,\n 541,\n 295,\n 2784,\n 378,\n 6463,\n 5455,\n 6873,\n 2939,\n 144,\n 4780,\n 6577,\n 5717,\n 5106,\n 7146,\n 2137,\n 1457,\n 1281,\n 1578,\n 2141,\n 5333,\n 5355,\n 578,\n 1741,\n 3654,\n 3294,\n 3303,\n 938,\n 533,\n 4498,\n 5335,\n 2584,\n 7040,\n 2346,\n 4631,\n 2731,\n 4712,\n 4200,\n 6880,\n 5969,\n 5075,\n 6983,\n 6805,\n 39,\n 6896,\n 5165,\n 464,\n 1656,\n 1259,\n 4752,\n 4800,\n 3688,\n 4668,\n 5978,\n 1216,\n 613,\n 3663,\n 4314,\n 1828,\n 1893,\n 779,\n 1696,\n 7016,\n 4869,\n 4002,\n 7087,\n 5280,\n 6314,\n 1666,\n 3842,\n 693,\n 2909,\n 3568,\n 527,\n 154,\n 1398,\n 4255,\n 3050,\n 444,\n 3053,\n 3553,\n 1454,\n 1870,\n 971,\n 5673,\n 5695,\n 4316,\n 4434,\n 6555,\n 3302,\n 4287,\n 2838,\n 641,\n 147,\n 4951,\n 5753,\n 3149,\n 1121,\n 3780,\n 4045,\n 1185,\n 629,\n 2030,\n 5584,\n 3924,\n 3416,\n 1411,\n 1277,\n 2164,\n 4980,\n 38,\n 6882,\n 4257,\n 4963,\n 1733,\n 3960,\n 4474,\n 737,\n 5193,\n 495,\n 6379,\n 634,\n 1161,\n 2759,\n 6202,\n 6828,\n 3883,\n 5765,\n 6968,\n 4872,\n 3828,\n 6285,\n 4120,\n 7033,\n 5785,\n 502,\n 1334,\n 2549,\n 572,\n 3464,\n 5595,\n 5451,\n 794,\n 1633,\n 5426,\n 7081,\n 4273,\n 812,\n 6053,\n 773,\n 3976,\n 2756,\n 5173,\n 1284,\n 1122,\n 2799,\n 875,\n 3534,\n 42,\n 3086,\n 5738,\n 1771,\n 6696,\n 3118,\n 6917,\n 4768,\n 5581,\n 4493,\n 1328,\n 5254,\n 49,\n 5197,\n 6781,\n 6155,\n 5611,\n 6610,\n 5764,\n 244,\n 3473,\n 2306,\n 3345,\n 3440,\n 771,\n 119,\n 4052,\n 6811,\n 3297,\n 2958,\n 6681,\n 1513,\n 3699,\n 7065,\n 6706,\n 5886,\n 224,\n 6688,\n 90,\n 7109,\n 6740,\n 44,\n 5599,\n 5133,\n 3608,\n 4717,\n 1433,\n 296,\n 6183,\n 3728,\n 6939,\n 2944,\n 5810,\n 3916,\n 3151,\n 6638,\n 6010,\n 6228,\n 5056,\n 548,\n 1160,\n 2178,\n 2949,\n 528,\n 994,\n 4569,\n 6360,\n 1922,\n 1806,\n 526,\n 4846,\n 4532,\n 3953,\n 5230,\n 3411,\n 6796,\n 2980,\n 313,\n 4481,\n 1414,\n 5578,\n 2773,\n 1751,\n 6960,\n 1881,\n 991,\n 3476,\n 3213,\n 2967,\n 2429,\n 5190,\n 5066,\n 4394,\n 1290,\n 2259,\n 1662,\n 6416,\n 4337,\n 2724,\n 1995,\n 4376,\n 1143,\n 509,\n 4798,\n 3719,\n 651,\n 4784,\n 4625,\n 2385,\n 3147,\n 4411,\n 3551,\n 6174,\n 3628,\n 3583,\n 558,\n 3710,\n 6305,\n 3518,\n 2212,\n 3706,\n 5035,\n 454,\n 6414,\n 3985,\n 3019,\n 456,\n 5740,\n 7031,\n 4975,\n 667,\n 2542,\n 3614,\n 2891,\n 6514,\n 1136,\n 170,\n 98,\n 148,\n 6635,\n 1643,\n 3140,\n 982,\n 2664,\n 4238,\n 2905,\n 4706,\n 5777,\n 304,\n 5912,\n 3373,\n 2554,\n 6742,\n 6636,\n 6591,\n 4895,\n 3812,\n 3903,\n 6059,\n 31,\n 3844,\n 6063,\n 2782,\n 7035,\n 318,\n 3335,\n 6501,\n 2228,\n 2565,\n 1238,\n 6762,\n 7139,\n 2632,\n 6144,\n 3906,\n 3907,\n 6863,\n 1829,\n 1750,\n 5875,\n 6154,\n 1066,\n 4701,\n 4229,\n 5854,\n 5616,\n 6165,\n 5716,\n 1082,\n 3990,\n 1456,\n 1632,\n 1051,\n 3545,\n 3975,\n 1370,\n 6540,\n 3079,\n 4185,\n 1421,\n 287,\n 2861,\n 14,\n 6819,\n 4019,\n 3169,\n 3488,\n 4550,\n 4111,\n 1531,\n 4194,\n 5476,\n 2625,\n 5313,\n 4919,\n 3075,\n 6240,\n 7161,\n 5136,\n 1388,\n 2459,\n 6129,\n 6698,\n 1869,\n 1361,\n 4279,\n 3503,\n 1282,\n 1974,\n 6897,\n 6334,\n 1386,\n 6292,\n 1237,\n 4110,\n 247,\n 4659,\n 4146,\n 6405,\n 4167,\n 2559,\n 6839,\n 2161,\n 2553,\n 4743,\n 683,\n 3389,\n 7059,\n 4918,\n 6800,\n 3587,\n 1142,\n 2294,\n 888,\n 6164,\n 5159,\n 2608,\n 3711,\n 5223,\n 5613,\n 3322,\n 4225,\n 2768,\n 5702,\n 1343,\n 33,\n 4937,\n 6903,\n 4056,\n 5817,\n 5348,\n 3538,\n 3376,\n 6875,\n 6718,\n 194,\n 2207,\n 2854,\n 2293,\n 5154,\n 6068,\n 3956,\n 2026,\n 5916,\n 5309,\n 6954,\n 2213,\n 5432,\n 4086,\n 4523,\n 4479,\n 5263,\n 6444,\n 4665,\n 6439,\n 6008,\n 3074,\n 1132,\n 3519,\n 6121,\n 4920,\n 1425,\n 1864,\n 1034,\n 5786,\n 2131,\n 6048,\n 3913,\n 227,\n 5909,\n 840,\n 4425,\n 2932,\n 6133,\n 2707,\n 5881,\n 3223,\n 5017,\n 2480,\n 530,\n 420,\n 3965,\n 3555,\n 3638,\n 291,\n 5275,\n 6251,\n 4821,\n 5748,\n 6413,\n 5143,\n 2027,\n 3267,\n 1590,\n 3493,\n 7138,\n 1580,\n 1712,\n 499,\n 48,\n 1422,\n 6351,\n 5792,\n 5031,\n 6570,\n 6765,\n 532,\n 980,\n 1460,\n 4216,\n 2179,\n 5733,\n 479,\n 7097,\n 722,\n 6415,\n 5732,\n 4663,\n 3789,\n 1891,\n 4925,\n 2450,\n 4482,\n 5685,\n 6717,\n 1865,\n 4062,\n 188,\n 6160,\n 3714,\n 5187,\n 5621,\n 4313,\n 5796,\n 3671,\n 3831,\n 4681,\n 5707,\n 574,\n 3090,\n 1710,\n 5655,\n 2359,\n 6867,\n 124,\n 4271,\n 1778,\n 4629,\n 3849,\n 4183,\n 1563,\n 4844,\n 6302,\n 2976,\n 4117,\n 4008,\n 1812,\n 4692,\n 1906,\n 4036,\n 1399,\n 3073,\n 4760,\n 1514,\n 6401,\n 5454,\n 2381,\n 5216,\n 1979,\n 4504,\n 2011,\n 2124,\n 4610,\n 4105,\n 6992,\n 1571,\n 5397,\n 2423,\n 4507,\n 475,\n 768,\n 5234,\n 3132,\n 4405,\n 4368,\n 6483,\n 5010,\n 6269,\n 2586,\n 3379,\n 2694,\n 2518,\n 6277,\n 3234,\n 1261,\n 519,\n 6618,\n 6683,\n 1654,\n 6984,\n 7111,\n 5344,\n 4992,\n 143,\n 5600,\n 6039,\n 5574,\n 4917,\n 2122,\n 5607,\n 4885,\n 6728,\n 2369,\n 4753,\n 1332,\n 5267,\n 3645,\n 2036,\n 3481,\n 1957,\n 2631,\n 4426,\n 3081,\n 4499,\n 4865,\n 5832,\n 5871,\n 1314,\n 1008,\n 2476,\n 5257,\n 4386,\n 5907,\n 2585,\n 409,\n 5407,\n 4389,\n 2194,\n 5316,\n 5996,\n 3871,\n 3474,\n 472,\n 3925,\n 4916,\n 831,\n 7082,\n 1900,\n 3681,\n 2092,\n 2043,\n 7013,\n 2234,\n 3487,\n 263,\n 6328,\n 1607,\n 1985,\n 6375,\n 6319,\n 1495,\n 891,\n 6019,\n 2262,\n 2193,\n 6317,\n 5731,\n 4121,\n 1087,\n 559,\n 2272,\n 3978,\n 800,\n 1196,\n 5172,\n 6465,\n 3181,\n 4407,\n 4404,\n 1983,\n 1091,\n 2658,\n 2761,\n 4857,\n 5376,\n 751,\n 6836,\n 3563,\n 206,\n 3312,\n 2455,\n 4324,\n 4488,\n 1380,\n 6296,\n 6046,\n 5761,\n 6865,\n 4244,\n 6041,\n 1946,\n 2946,\n 2716,\n 6622,\n 6364,\n 5350,\n 4778,\n 4003,\n 4193,\n 2377,\n 2048,\n 1352,\n 1547,\n 4755,\n 29,\n 5933,\n 6456,\n 6123,\n 4655,\n 1551,\n 4667,\n 4321,\n 2200,\n 1783,\n 1014,\n 2039,\n 1642,\n 5175,\n 4402,\n 4168,\n 6262,\n 987,\n 2516,\n 5081,\n 5198,\n 2545,\n 593,\n 6543,\n 4318,\n 4614,\n 2611,\n 7102,\n 158,\n 1523,\n 5196,\n 2643,\n 6826,\n 6127,\n 4396,\n 487,\n 4957,\n 1921,\n 3420,\n 72,\n 5286,\n 5684,\n 3766,\n 2578,\n 5878,\n 4994,\n 731,\n 4344,\n 874,\n 7072,\n 1035,\n 6119,\n 3970,\n 695,\n 2588,\n 5238,\n 6221,\n 5341,\n 2448,\n 5080,\n 1573,\n 2526,\n 3382,\n 6584,\n 1830,\n 5582,\n 1687,\n 2301,\n 2994,\n 5371,\n 3833,\n 6734,\n 6808,\n 3311,\n 2252,\n 3447,\n 5036,\n 4721,\n 684,\n 3156,\n 6266,\n 2648,\n 3402,\n 5470,\n 4415,\n 3637,\n 5472,\n 3083,\n 6972,\n 3162,\n 878,\n 4967,\n 317,\n 6234,\n 1043,\n 2702,\n 5838,\n 3482,\n 2190,\n 1835,\n 2650,\n 842,\n 1029,\n 1939,\n 733,\n 4670,\n 4613,\n 1326,\n 2615,\n 4697,\n 3535,\n 7063,\n 3542,\n 5931,\n 5151,\n 15,\n 3367,\n 4296,\n 7003,\n 252,\n 5047,\n 2764,\n 4162,\n 3856,\n 2065,\n 944,\n 5642,\n 214,\n 6143,\n 1815,\n 1688,\n 841,\n 4954,\n 6368,\n 2235,\n 12,\n 6822,\n 5195,\n 5339,\n 4996,\n 7029,\n 4347,\n 2563,\n 3037,\n 1448,\n 233,\n 3170,\n 543,\n 3391,\n 467,\n 4494,\n 2417,\n 1831,\n 4770,\n 7070,\n 2841,\n 6834,\n 2470,\n 719,\n 3992,\n 5834,\n 3136,\n 3515,\n 2372,\n 4034,\n 3520,\n 2462,\n 3433,\n 6290,\n 5543,\n 6338,\n 3276,\n 6199,\n 5942,\n 6077,\n 3104,\n 4127,\n 2250,\n 7045,\n 2920,\n 5845,\n 51,\n 2847,\n 3350,\n 1022,\n 294,\n 4944,\n 6410,\n 979,\n 2998,\n 7030,\n 1270,\n 5544,\n 3100,\n 1363,\n 4991,\n 5812,\n 5744,\n 1515,\n 7000,\n 7093,\n 6536,\n 5123,\n 3554,\n 2830,\n 2975,\n 1824,\n ...]"
     },
     "execution_count": 13,
     "metadata": {},
     "output_type": "execute_result"
    }
   ],
   "source": [
    "list(np.loadtxt('/home/dboiko/SPAHM/test-indices/QM7_test_indices.dat').astype(int))"
   ],
   "metadata": {
    "collapsed": false,
    "ExecuteTime": {
     "end_time": "2024-11-08T06:40:47.720384Z",
     "start_time": "2024-11-08T06:40:47.704452Z"
    }
   }
  },
  {
   "cell_type": "code",
   "execution_count": 9,
   "outputs": [
    {
     "data": {
      "text/plain": "Data(qm9_id='0001', x=[21, 58], edge_index=[2, 64], edge_attr=[64, 36], is_atom=[9], is_lp=[9], is_bond=[9], type='train', normalized_targets=[1], symbol=[9])"
     },
     "execution_count": 9,
     "metadata": {},
     "output_type": "execute_result"
    }
   ],
   "source": [
    "all_graphs[0]"
   ],
   "metadata": {
    "collapsed": false,
    "ExecuteTime": {
     "end_time": "2024-11-07T04:33:08.235413Z",
     "start_time": "2024-11-07T04:33:08.233723Z"
    }
   }
  },
  {
   "cell_type": "code",
   "execution_count": 10,
   "outputs": [
    {
     "data": {
      "text/plain": "             0         1            2   type\n0     0001.xyz  -417.031  -431.787272  train\n1     0002.xyz  -711.117  -730.835895   test\n2     0003.xyz  -563.084  -573.104249  train\n3     0004.xyz  -403.695  -412.902289  train\n4     0005.xyz  -858.499  -869.887692  train\n...        ...       ...          ...    ...\n7096  7168.xyz -1224.850 -1339.264266  train\n7097  7169.xyz -1065.110 -1180.593348  train\n7098  7170.xyz -1309.130 -1446.772902  train\n7099  7171.xyz -1296.090 -1430.446486  train\n7100  7172.xyz -1320.970 -1465.410635   test\n\n[7101 rows x 4 columns]",
      "text/html": "<div>\n<style scoped>\n    .dataframe tbody tr th:only-of-type {\n        vertical-align: middle;\n    }\n\n    .dataframe tbody tr th {\n        vertical-align: top;\n    }\n\n    .dataframe thead th {\n        text-align: right;\n    }\n</style>\n<table border=\"1\" class=\"dataframe\">\n  <thead>\n    <tr style=\"text-align: right;\">\n      <th></th>\n      <th>0</th>\n      <th>1</th>\n      <th>2</th>\n      <th>type</th>\n    </tr>\n  </thead>\n  <tbody>\n    <tr>\n      <th>0</th>\n      <td>0001.xyz</td>\n      <td>-417.031</td>\n      <td>-431.787272</td>\n      <td>train</td>\n    </tr>\n    <tr>\n      <th>1</th>\n      <td>0002.xyz</td>\n      <td>-711.117</td>\n      <td>-730.835895</td>\n      <td>test</td>\n    </tr>\n    <tr>\n      <th>2</th>\n      <td>0003.xyz</td>\n      <td>-563.084</td>\n      <td>-573.104249</td>\n      <td>train</td>\n    </tr>\n    <tr>\n      <th>3</th>\n      <td>0004.xyz</td>\n      <td>-403.695</td>\n      <td>-412.902289</td>\n      <td>train</td>\n    </tr>\n    <tr>\n      <th>4</th>\n      <td>0005.xyz</td>\n      <td>-858.499</td>\n      <td>-869.887692</td>\n      <td>train</td>\n    </tr>\n    <tr>\n      <th>...</th>\n      <td>...</td>\n      <td>...</td>\n      <td>...</td>\n      <td>...</td>\n    </tr>\n    <tr>\n      <th>7096</th>\n      <td>7168.xyz</td>\n      <td>-1224.850</td>\n      <td>-1339.264266</td>\n      <td>train</td>\n    </tr>\n    <tr>\n      <th>7097</th>\n      <td>7169.xyz</td>\n      <td>-1065.110</td>\n      <td>-1180.593348</td>\n      <td>train</td>\n    </tr>\n    <tr>\n      <th>7098</th>\n      <td>7170.xyz</td>\n      <td>-1309.130</td>\n      <td>-1446.772902</td>\n      <td>train</td>\n    </tr>\n    <tr>\n      <th>7099</th>\n      <td>7171.xyz</td>\n      <td>-1296.090</td>\n      <td>-1430.446486</td>\n      <td>train</td>\n    </tr>\n    <tr>\n      <th>7100</th>\n      <td>7172.xyz</td>\n      <td>-1320.970</td>\n      <td>-1465.410635</td>\n      <td>test</td>\n    </tr>\n  </tbody>\n</table>\n<p>7101 rows × 4 columns</p>\n</div>"
     },
     "execution_count": 10,
     "metadata": {},
     "output_type": "execute_result"
    }
   ],
   "source": [
    "files"
   ],
   "metadata": {
    "collapsed": false,
    "ExecuteTime": {
     "end_time": "2024-11-07T04:34:28.312532Z",
     "start_time": "2024-11-07T04:34:28.312083Z"
    }
   }
  },
  {
   "cell_type": "code",
   "execution_count": 12,
   "outputs": [],
   "source": [
    "files = pd.read_csv('/home/dboiko/SPAHM/qmllib/tests/assets/hof_qm7.txt', header=None, sep=' ')\n",
    "files[0] = files[0].map(lambda x: x.split('/')[-1].split('.')[0])\n",
    "file2y = dict(zip(files[0], files[1]))"
   ],
   "metadata": {
    "collapsed": false,
    "ExecuteTime": {
     "end_time": "2024-11-07T04:45:30.510226Z",
     "start_time": "2024-11-07T04:45:30.129932Z"
    }
   }
  },
  {
   "cell_type": "code",
   "execution_count": 13,
   "outputs": [],
   "source": [
    "y_mean = np.mean([torch.FloatTensor([file2y[graph.qm9_id]]).numpy() for graph in all_graphs], axis=0)\n",
    "y_std = np.std([torch.FloatTensor([file2y[graph.qm9_id]]).numpy() for graph in all_graphs], axis=0)"
   ],
   "metadata": {
    "collapsed": false,
    "ExecuteTime": {
     "end_time": "2024-11-07T04:45:47.293398Z",
     "start_time": "2024-11-07T04:45:44.016888Z"
    }
   }
  },
  {
   "cell_type": "code",
   "execution_count": 15,
   "outputs": [
    {
     "data": {
      "text/plain": "(1,)"
     },
     "execution_count": 15,
     "metadata": {},
     "output_type": "execute_result"
    }
   ],
   "source": [
    "y_mean.shape"
   ],
   "metadata": {
    "collapsed": false,
    "ExecuteTime": {
     "end_time": "2024-11-07T04:45:55.560656Z",
     "start_time": "2024-11-07T04:45:55.552691Z"
    }
   }
  },
  {
   "cell_type": "code",
   "execution_count": 17,
   "outputs": [
    {
     "data": {
      "text/plain": "tensor([-1.8687])"
     },
     "execution_count": 17,
     "metadata": {},
     "output_type": "execute_result"
    }
   ],
   "source": [
    "torch.FloatTensor([file2y[all_graphs[0].qm9_id]])/y_std"
   ],
   "metadata": {
    "collapsed": false,
    "ExecuteTime": {
     "end_time": "2024-11-07T04:46:14.984575Z",
     "start_time": "2024-11-07T04:46:14.984161Z"
    }
   }
  },
  {
   "cell_type": "code",
   "execution_count": 18,
   "outputs": [],
   "source": [
    "torch.save(\n",
    "    all_graphs[:500],\n",
    "    '/home/dboiko/reproducing_experiments/qm7_graphs_500.pt'\n",
    ")"
   ],
   "metadata": {
    "collapsed": false,
    "ExecuteTime": {
     "end_time": "2024-11-07T16:30:40.718854Z",
     "start_time": "2024-11-07T16:30:34.218522Z"
    }
   }
  },
  {
   "cell_type": "code",
   "execution_count": null,
   "outputs": [],
   "source": [],
   "metadata": {
    "collapsed": false
   }
  }
 ],
 "metadata": {
  "kernelspec": {
   "display_name": "Python 3",
   "language": "python",
   "name": "python3"
  },
  "language_info": {
   "codemirror_mode": {
    "name": "ipython",
    "version": 2
   },
   "file_extension": ".py",
   "mimetype": "text/x-python",
   "name": "python",
   "nbconvert_exporter": "python",
   "pygments_lexer": "ipython2",
   "version": "2.7.6"
  }
 },
 "nbformat": 4,
 "nbformat_minor": 0
}
