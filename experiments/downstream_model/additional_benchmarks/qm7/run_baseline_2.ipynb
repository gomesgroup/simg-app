{
 "cells": [
  {
   "cell_type": "code",
   "execution_count": 0,
   "metadata": {
    "collapsed": true
   },
   "outputs": [],
   "source": [
    "import pandas as pd\n",
    "import numpy as np\n",
    "from tqdm.auto import tqdm\n",
    "\n",
    "from sklearn.metrics.pairwise import rbf_kernel\n",
    "from sklearn.metrics.pairwise import laplacian_kernel\n",
    "from sklearn.model_selection import train_test_split"
   ]
  },
  {
   "cell_type": "code",
   "execution_count": 95,
   "outputs": [
    {
     "name": "stderr",
     "output_type": "stream",
     "text": [
      "100%|█████████████████████████████████████████████████████████████████████████████████████████████████████████████████| 9/9 [00:12<00:00,  1.36s/it]\n",
      "100%|█████████████████████████████████████████████████████████████████████████████████████████████████████████████████| 9/9 [00:11<00:00,  1.27s/it]\n",
      "100%|█████████████████████████████████████████████████████████████████████████████████████████████████████████████████| 9/9 [00:11<00:00,  1.24s/it]\n",
      "100%|█████████████████████████████████████████████████████████████████████████████████████████████████████████████████| 9/9 [00:11<00:00,  1.24s/it]\n"
     ]
    }
   ],
   "source": [
    "sigmas = {\n",
    "    \"dipole\": 1,\n",
    "    \"atomization\": 31.622777,\n",
    "    \"gap\": 10,\n",
    "    \"homo\": 10\n",
    "}\n",
    "\n",
    "sigmas = {\n",
    "    \"dipole\": 10,\n",
    "    \"atomization\": 100,\n",
    "    \"gap\": 31.622777,\n",
    "    \"homo\": 31.622777\n",
    "}\n",
    "\n",
    "results = []\n",
    "\n",
    "for target in [\"atomization\",\"dipole\",\"gap\",\"homo\"]:\n",
    "    # X = np.load('/home/dboiko/SPAHM/SPAHM/1_QM7/representations_SPAHM/LB.minao.npy')\n",
    "    X = np.load('/home/dboiko/SPAHM/SPAHM/1_QM7/representations_QML/CM.npy')\n",
    "    y = np.loadtxt(f'/home/dboiko/SPAHM/SPAHM/1_QM7/target/{target}.dat')\n",
    "\n",
    "    test_idx = np.loadtxt('/home/dboiko/SPAHM/test-indices/QM7_test_indices.dat').astype(int)\n",
    "    train_indices = np.array([i for i in range(X.shape[0]) if i not in test_idx])\n",
    "\n",
    "    selected_kernel = laplacian_kernel\n",
    "\n",
    "    test_size = 0.2\n",
    "    sigma=sigmas[target]\n",
    "    eta=1e-5\n",
    "    n_rep=5\n",
    "\n",
    "    X_train, X_test, y_train, y_test = X[train_indices], X[test_idx], y[train_indices], y[test_idx]\n",
    "\n",
    "    all_indices_train = np.arange(X_train.shape[0])\n",
    "    K_all  = laplacian_kernel(X_train, X_train, 1.0/sigma)\n",
    "    Ks_all = laplacian_kernel(X_test,  X_train, 1.0/sigma)\n",
    "    K_all[np.diag_indices_from(K_all)] += eta\n",
    "\n",
    "    np.random.seed(42)\n",
    "\n",
    "    train_size = np.linspace(0.1, 0.9, 9)\n",
    "\n",
    "    for size in tqdm(train_size):\n",
    "        size_train = int(np.floor(X_train.shape[0]*size))\n",
    "        maes = []\n",
    "        for rep in range(n_rep):\n",
    "            train_idx = np.random.choice(all_indices_train, size = size_train, replace=False)\n",
    "            y_kf_train = y_train[train_idx]\n",
    "            K  = K_all [np.ix_(train_idx,train_idx)]\n",
    "            Ks = Ks_all[:,train_idx]\n",
    "            alpha = np.linalg.solve(K, y_kf_train)\n",
    "            y_kf_predict = np.dot(Ks, alpha)\n",
    "            maes.append(np.mean(np.abs(y_test-y_kf_predict)))\n",
    "\n",
    "        results.append({\n",
    "            'target': target,\n",
    "            'size': size_train,\n",
    "            'mae': np.mean(maes),\n",
    "            'std': np.std(maes)\n",
    "        })\n",
    "\n",
    "results = pd.DataFrame(results)"
   ],
   "metadata": {
    "collapsed": false,
    "ExecuteTime": {
     "end_time": "2024-11-14T17:43:37.151444Z",
     "start_time": "2024-11-14T17:42:47.796418Z"
    }
   }
  },
  {
   "cell_type": "code",
   "execution_count": 88,
   "outputs": [
    {
     "data": {
      "text/plain": "         target  size       mae       std\n0   atomization   573  9.225823  0.561123\n1   atomization  1146  6.315142  0.526400\n2   atomization  1719  5.307729  0.173755\n3   atomization  2292  4.586249  0.382936\n4   atomization  2866  4.277097  0.189329\n5   atomization  3439  3.942689  0.118638\n6   atomization  4012  3.629434  0.040715\n7   atomization  4585  3.519753  0.074322\n8   atomization  5158  3.363854  0.101991\n9        dipole   573  0.285843  0.006670\n10       dipole  1146  0.263997  0.002743\n11       dipole  1719  0.252660  0.006151\n12       dipole  2292  0.236068  0.001860\n13       dipole  2866  0.232114  0.001776\n14       dipole  3439  0.225945  0.003275\n15       dipole  4012  0.222625  0.001609\n16       dipole  4585  0.216764  0.003440\n17       dipole  5158  0.214202  0.001424\n18          gap   573  0.017188  0.000671\n19          gap  1146  0.015064  0.000320\n20          gap  1719  0.013299  0.000211\n21          gap  2292  0.012533  0.000314\n22          gap  2866  0.011568  0.000088\n23          gap  3439  0.011261  0.000142\n24          gap  4012  0.011013  0.000111\n25          gap  4585  0.010570  0.000049\n26          gap  5158  0.010368  0.000089\n27         homo   573  0.009486  0.000510\n28         homo  1146  0.007740  0.000268\n29         homo  1719  0.006587  0.000207\n30         homo  2292  0.006166  0.000160\n31         homo  2866  0.005640  0.000093\n32         homo  3439  0.005384  0.000098\n33         homo  4012  0.005243  0.000052\n34         homo  4585  0.005082  0.000050\n35         homo  5158  0.004927  0.000080",
      "text/html": "<div>\n<style scoped>\n    .dataframe tbody tr th:only-of-type {\n        vertical-align: middle;\n    }\n\n    .dataframe tbody tr th {\n        vertical-align: top;\n    }\n\n    .dataframe thead th {\n        text-align: right;\n    }\n</style>\n<table border=\"1\" class=\"dataframe\">\n  <thead>\n    <tr style=\"text-align: right;\">\n      <th></th>\n      <th>target</th>\n      <th>size</th>\n      <th>mae</th>\n      <th>std</th>\n    </tr>\n  </thead>\n  <tbody>\n    <tr>\n      <th>0</th>\n      <td>atomization</td>\n      <td>573</td>\n      <td>9.225823</td>\n      <td>0.561123</td>\n    </tr>\n    <tr>\n      <th>1</th>\n      <td>atomization</td>\n      <td>1146</td>\n      <td>6.315142</td>\n      <td>0.526400</td>\n    </tr>\n    <tr>\n      <th>2</th>\n      <td>atomization</td>\n      <td>1719</td>\n      <td>5.307729</td>\n      <td>0.173755</td>\n    </tr>\n    <tr>\n      <th>3</th>\n      <td>atomization</td>\n      <td>2292</td>\n      <td>4.586249</td>\n      <td>0.382936</td>\n    </tr>\n    <tr>\n      <th>4</th>\n      <td>atomization</td>\n      <td>2866</td>\n      <td>4.277097</td>\n      <td>0.189329</td>\n    </tr>\n    <tr>\n      <th>5</th>\n      <td>atomization</td>\n      <td>3439</td>\n      <td>3.942689</td>\n      <td>0.118638</td>\n    </tr>\n    <tr>\n      <th>6</th>\n      <td>atomization</td>\n      <td>4012</td>\n      <td>3.629434</td>\n      <td>0.040715</td>\n    </tr>\n    <tr>\n      <th>7</th>\n      <td>atomization</td>\n      <td>4585</td>\n      <td>3.519753</td>\n      <td>0.074322</td>\n    </tr>\n    <tr>\n      <th>8</th>\n      <td>atomization</td>\n      <td>5158</td>\n      <td>3.363854</td>\n      <td>0.101991</td>\n    </tr>\n    <tr>\n      <th>9</th>\n      <td>dipole</td>\n      <td>573</td>\n      <td>0.285843</td>\n      <td>0.006670</td>\n    </tr>\n    <tr>\n      <th>10</th>\n      <td>dipole</td>\n      <td>1146</td>\n      <td>0.263997</td>\n      <td>0.002743</td>\n    </tr>\n    <tr>\n      <th>11</th>\n      <td>dipole</td>\n      <td>1719</td>\n      <td>0.252660</td>\n      <td>0.006151</td>\n    </tr>\n    <tr>\n      <th>12</th>\n      <td>dipole</td>\n      <td>2292</td>\n      <td>0.236068</td>\n      <td>0.001860</td>\n    </tr>\n    <tr>\n      <th>13</th>\n      <td>dipole</td>\n      <td>2866</td>\n      <td>0.232114</td>\n      <td>0.001776</td>\n    </tr>\n    <tr>\n      <th>14</th>\n      <td>dipole</td>\n      <td>3439</td>\n      <td>0.225945</td>\n      <td>0.003275</td>\n    </tr>\n    <tr>\n      <th>15</th>\n      <td>dipole</td>\n      <td>4012</td>\n      <td>0.222625</td>\n      <td>0.001609</td>\n    </tr>\n    <tr>\n      <th>16</th>\n      <td>dipole</td>\n      <td>4585</td>\n      <td>0.216764</td>\n      <td>0.003440</td>\n    </tr>\n    <tr>\n      <th>17</th>\n      <td>dipole</td>\n      <td>5158</td>\n      <td>0.214202</td>\n      <td>0.001424</td>\n    </tr>\n    <tr>\n      <th>18</th>\n      <td>gap</td>\n      <td>573</td>\n      <td>0.017188</td>\n      <td>0.000671</td>\n    </tr>\n    <tr>\n      <th>19</th>\n      <td>gap</td>\n      <td>1146</td>\n      <td>0.015064</td>\n      <td>0.000320</td>\n    </tr>\n    <tr>\n      <th>20</th>\n      <td>gap</td>\n      <td>1719</td>\n      <td>0.013299</td>\n      <td>0.000211</td>\n    </tr>\n    <tr>\n      <th>21</th>\n      <td>gap</td>\n      <td>2292</td>\n      <td>0.012533</td>\n      <td>0.000314</td>\n    </tr>\n    <tr>\n      <th>22</th>\n      <td>gap</td>\n      <td>2866</td>\n      <td>0.011568</td>\n      <td>0.000088</td>\n    </tr>\n    <tr>\n      <th>23</th>\n      <td>gap</td>\n      <td>3439</td>\n      <td>0.011261</td>\n      <td>0.000142</td>\n    </tr>\n    <tr>\n      <th>24</th>\n      <td>gap</td>\n      <td>4012</td>\n      <td>0.011013</td>\n      <td>0.000111</td>\n    </tr>\n    <tr>\n      <th>25</th>\n      <td>gap</td>\n      <td>4585</td>\n      <td>0.010570</td>\n      <td>0.000049</td>\n    </tr>\n    <tr>\n      <th>26</th>\n      <td>gap</td>\n      <td>5158</td>\n      <td>0.010368</td>\n      <td>0.000089</td>\n    </tr>\n    <tr>\n      <th>27</th>\n      <td>homo</td>\n      <td>573</td>\n      <td>0.009486</td>\n      <td>0.000510</td>\n    </tr>\n    <tr>\n      <th>28</th>\n      <td>homo</td>\n      <td>1146</td>\n      <td>0.007740</td>\n      <td>0.000268</td>\n    </tr>\n    <tr>\n      <th>29</th>\n      <td>homo</td>\n      <td>1719</td>\n      <td>0.006587</td>\n      <td>0.000207</td>\n    </tr>\n    <tr>\n      <th>30</th>\n      <td>homo</td>\n      <td>2292</td>\n      <td>0.006166</td>\n      <td>0.000160</td>\n    </tr>\n    <tr>\n      <th>31</th>\n      <td>homo</td>\n      <td>2866</td>\n      <td>0.005640</td>\n      <td>0.000093</td>\n    </tr>\n    <tr>\n      <th>32</th>\n      <td>homo</td>\n      <td>3439</td>\n      <td>0.005384</td>\n      <td>0.000098</td>\n    </tr>\n    <tr>\n      <th>33</th>\n      <td>homo</td>\n      <td>4012</td>\n      <td>0.005243</td>\n      <td>0.000052</td>\n    </tr>\n    <tr>\n      <th>34</th>\n      <td>homo</td>\n      <td>4585</td>\n      <td>0.005082</td>\n      <td>0.000050</td>\n    </tr>\n    <tr>\n      <th>35</th>\n      <td>homo</td>\n      <td>5158</td>\n      <td>0.004927</td>\n      <td>0.000080</td>\n    </tr>\n  </tbody>\n</table>\n</div>"
     },
     "execution_count": 88,
     "metadata": {},
     "output_type": "execute_result"
    }
   ],
   "source": [
    "results"
   ],
   "metadata": {
    "collapsed": false,
    "ExecuteTime": {
     "end_time": "2024-11-14T17:39:54.525973Z",
     "start_time": "2024-11-14T17:39:54.522926Z"
    }
   }
  },
  {
   "cell_type": "code",
   "execution_count": 111,
   "outputs": [],
   "source": [
    "comparator_results = pd.read_csv(\n",
    "    '/home/dboiko/simg-2/experiments/downstream_model/additional_benchmarks/qm7/results_SPAHM_comparison_longer.csv'\n",
    ")\n",
    "comparator_results['size'] = comparator_results['fraction']*4585\n",
    "comparator_results['mae'] = comparator_results['mse']\n",
    "comparator_results = comparator_results.groupby(['target','size'])['mae'].mean().reset_index()"
   ],
   "metadata": {
    "collapsed": false,
    "ExecuteTime": {
     "end_time": "2024-11-17T17:19:46.957905Z",
     "start_time": "2024-11-17T17:19:46.949011Z"
    }
   }
  },
  {
   "cell_type": "code",
   "execution_count": 93,
   "outputs": [],
   "source": [
    "results_spahm = results.copy()"
   ],
   "metadata": {
    "collapsed": false,
    "ExecuteTime": {
     "end_time": "2024-11-14T17:42:30.836341Z",
     "start_time": "2024-11-14T17:42:30.778236Z"
    }
   }
  },
  {
   "cell_type": "code",
   "execution_count": 107,
   "outputs": [],
   "source": [
    "results_spahm.to_csv('1116_results_spahm.csv', index=False)\n",
    "results.to_csv('1116_results_cm.csv', index=False)"
   ],
   "metadata": {
    "collapsed": false,
    "ExecuteTime": {
     "end_time": "2024-11-17T05:36:49.782296Z",
     "start_time": "2024-11-17T05:36:49.780375Z"
    }
   }
  },
  {
   "cell_type": "code",
   "execution_count": 176,
   "outputs": [],
   "source": [
    "results_soap = pd.read_csv('/home/dboiko/1117_results_soap.csv')"
   ],
   "metadata": {
    "collapsed": false,
    "ExecuteTime": {
     "end_time": "2024-11-17T23:00:54.995062Z",
     "start_time": "2024-11-17T23:00:54.994351Z"
    }
   }
  },
  {
   "cell_type": "code",
   "execution_count": 179,
   "outputs": [
    {
     "name": "stderr",
     "output_type": "stream",
     "text": [
      "/tmp/ipykernel_1072437/270542703.py:53: UserWarning: Tight layout not applied. tight_layout cannot make axes width small enough to accommodate all axes decorations\n",
      "  plt.tight_layout()\n"
     ]
    },
    {
     "data": {
      "text/plain": "<Figure size 1080x216 with 4 Axes>",
      "image/png": "[encoded data removed]"
     },
     "metadata": {
      "needs_background": "light"
     },
     "output_type": "display_data"
    }
   ],
   "source": [
    "import matplotlib.pyplot as plt\n",
    "\n",
    "plt.rcParams[\"font.family\"] = \"sans-serif\"\n",
    "plt.rcParams[\"font.sans-serif\"] = [\"Arial\"]\n",
    "\n",
    "plt.rcParams[\"pdf.fonttype\"] = 42\n",
    "\n",
    "fig, axes = plt.subplots(1, 4, figsize=(15, 3))\n",
    "targets = [\"atomization\", \"dipole\", \"gap\", \"homo\"]\n",
    "\n",
    "for i, target in enumerate(targets):\n",
    "    sub_cmp = comparator_results[comparator_results['target'] == target].copy()\n",
    "    sub_res_spahm = results_spahm[results_spahm['target'] == target].copy()\n",
    "    sub_res = results[results['target'] == target].copy()\n",
    "    sub_res_soap = results_soap[results_soap['target'] == target].copy()\n",
    "\n",
    "    if target in ['homo', 'gap']:\n",
    "        sub_cmp['mae'] = 27*sub_cmp['mae']\n",
    "        sub_res_spahm['mae'] = 27*sub_res_spahm['mae']\n",
    "        sub_res['mae'] = 27*sub_res['mae']\n",
    "        sub_res_soap['mae'] = 27*sub_res_soap['mae']\n",
    "\n",
    "    axes[i].plot(sub_cmp['size'], sub_cmp['mae'], label='SIMG*', linestyle='-', marker='o')\n",
    "    axes[i].plot(sub_res_spahm['size'], sub_res_spahm['mae'], label='SPAHM', linestyle='--', marker='x')\n",
    "    axes[i].plot(sub_res['size'], sub_res['mae'], label='CM', linestyle='--', marker='x')\n",
    "    axes[i].plot(sub_res_soap['size'], sub_res_soap['mae'], label='SOAP', linestyle='--', marker='x')\n",
    "\n",
    "\n",
    "    if i != 1:\n",
    "        axes[i].plot(\n",
    "            5_284, [16.78, None, 0.32, .28][i], label='MAOC', marker='x', linestyle='--'\n",
    "        )\n",
    "\n",
    "    axes[i].set_ylim(0, [50, 0.4, 0.8, 0.7][i])\n",
    "    axes[i].set_xlim(0, 6000)\n",
    "\n",
    "    target2label = {\n",
    "        \"atomization\": \"Atomization energy, kcal/mol\",\n",
    "        \"dipole\": \"Dipole moment, a.u.\",\n",
    "        \"gap\": \"HOMO-LUMO gap, eV\",\n",
    "        \"homo\": \"HOMO energy, eV\"\n",
    "    }\n",
    "\n",
    "    axes[i].set_title(target2label[target])\n",
    "    axes[i].set_xlabel(\"Training data size\")\n",
    "    axes[i].spines[\"top\"].set_visible(False)\n",
    "    axes[i].spines[\"right\"].set_visible(False)\n",
    "\n",
    "    if i == 0:\n",
    "        axes[i].set_ylabel(\"Mean Absolute Error (MAE)\")\n",
    "        axes[i].legend(loc=(1.55, -0.35), frameon=False, ncol=5)\n",
    "plt.subplots_adjust(wspace=0.5)\n",
    "plt.tight_layout()\n",
    "plt.savefig('baseline_comparison.pdf', dpi=300, bbox_inches='tight')"
   ],
   "metadata": {
    "collapsed": false,
    "ExecuteTime": {
     "end_time": "2024-11-18T18:29:20.513796Z",
     "start_time": "2024-11-18T18:29:18.478350Z"
    }
   }
  },
  {
   "cell_type": "code",
   "execution_count": 175,
   "outputs": [
    {
     "name": "stdout",
     "output_type": "stream",
     "text": [
      "/home/dboiko\r\n"
     ]
    }
   ],
   "source": [
    "!pwd"
   ],
   "metadata": {
    "collapsed": false,
    "ExecuteTime": {
     "end_time": "2024-11-17T21:07:26.088738Z",
     "start_time": "2024-11-17T21:07:25.942757Z"
    }
   }
  },
  {
   "cell_type": "code",
   "execution_count": 113,
   "outputs": [
    {
     "data": {
      "text/plain": "         target  size       mae       std\n0   atomization   573  9.225823  0.561123\n1   atomization  1146  6.315142  0.526400\n2   atomization  1719  5.307729  0.173755\n3   atomization  2292  4.586249  0.382936\n4   atomization  2866  4.277097  0.189329\n5   atomization  3439  3.942689  0.118638\n6   atomization  4012  3.629434  0.040715\n7   atomization  4585  3.519753  0.074322\n8   atomization  5158  3.363854  0.101991\n9        dipole   573  0.285843  0.006670\n10       dipole  1146  0.263997  0.002743\n11       dipole  1719  0.252660  0.006151\n12       dipole  2292  0.236068  0.001860\n13       dipole  2866  0.232114  0.001776\n14       dipole  3439  0.225945  0.003275\n15       dipole  4012  0.222625  0.001609\n16       dipole  4585  0.216764  0.003440\n17       dipole  5158  0.214202  0.001424\n18          gap   573  0.017188  0.000671\n19          gap  1146  0.015064  0.000320\n20          gap  1719  0.013299  0.000211\n21          gap  2292  0.012533  0.000314\n22          gap  2866  0.011568  0.000088\n23          gap  3439  0.011261  0.000142\n24          gap  4012  0.011013  0.000111\n25          gap  4585  0.010570  0.000049\n26          gap  5158  0.010368  0.000089\n27         homo   573  0.009486  0.000510\n28         homo  1146  0.007740  0.000268\n29         homo  1719  0.006587  0.000207\n30         homo  2292  0.006166  0.000160\n31         homo  2866  0.005640  0.000093\n32         homo  3439  0.005384  0.000098\n33         homo  4012  0.005243  0.000052\n34         homo  4585  0.005082  0.000050\n35         homo  5158  0.004927  0.000080",
      "text/html": "<div>\n<style scoped>\n    .dataframe tbody tr th:only-of-type {\n        vertical-align: middle;\n    }\n\n    .dataframe tbody tr th {\n        vertical-align: top;\n    }\n\n    .dataframe thead th {\n        text-align: right;\n    }\n</style>\n<table border=\"1\" class=\"dataframe\">\n  <thead>\n    <tr style=\"text-align: right;\">\n      <th></th>\n      <th>target</th>\n      <th>size</th>\n      <th>mae</th>\n      <th>std</th>\n    </tr>\n  </thead>\n  <tbody>\n    <tr>\n      <th>0</th>\n      <td>atomization</td>\n      <td>573</td>\n      <td>9.225823</td>\n      <td>0.561123</td>\n    </tr>\n    <tr>\n      <th>1</th>\n      <td>atomization</td>\n      <td>1146</td>\n      <td>6.315142</td>\n      <td>0.526400</td>\n    </tr>\n    <tr>\n      <th>2</th>\n      <td>atomization</td>\n      <td>1719</td>\n      <td>5.307729</td>\n      <td>0.173755</td>\n    </tr>\n    <tr>\n      <th>3</th>\n      <td>atomization</td>\n      <td>2292</td>\n      <td>4.586249</td>\n      <td>0.382936</td>\n    </tr>\n    <tr>\n      <th>4</th>\n      <td>atomization</td>\n      <td>2866</td>\n      <td>4.277097</td>\n      <td>0.189329</td>\n    </tr>\n    <tr>\n      <th>5</th>\n      <td>atomization</td>\n      <td>3439</td>\n      <td>3.942689</td>\n      <td>0.118638</td>\n    </tr>\n    <tr>\n      <th>6</th>\n      <td>atomization</td>\n      <td>4012</td>\n      <td>3.629434</td>\n      <td>0.040715</td>\n    </tr>\n    <tr>\n      <th>7</th>\n      <td>atomization</td>\n      <td>4585</td>\n      <td>3.519753</td>\n      <td>0.074322</td>\n    </tr>\n    <tr>\n      <th>8</th>\n      <td>atomization</td>\n      <td>5158</td>\n      <td>3.363854</td>\n      <td>0.101991</td>\n    </tr>\n    <tr>\n      <th>9</th>\n      <td>dipole</td>\n      <td>573</td>\n      <td>0.285843</td>\n      <td>0.006670</td>\n    </tr>\n    <tr>\n      <th>10</th>\n      <td>dipole</td>\n      <td>1146</td>\n      <td>0.263997</td>\n      <td>0.002743</td>\n    </tr>\n    <tr>\n      <th>11</th>\n      <td>dipole</td>\n      <td>1719</td>\n      <td>0.252660</td>\n      <td>0.006151</td>\n    </tr>\n    <tr>\n      <th>12</th>\n      <td>dipole</td>\n      <td>2292</td>\n      <td>0.236068</td>\n      <td>0.001860</td>\n    </tr>\n    <tr>\n      <th>13</th>\n      <td>dipole</td>\n      <td>2866</td>\n      <td>0.232114</td>\n      <td>0.001776</td>\n    </tr>\n    <tr>\n      <th>14</th>\n      <td>dipole</td>\n      <td>3439</td>\n      <td>0.225945</td>\n      <td>0.003275</td>\n    </tr>\n    <tr>\n      <th>15</th>\n      <td>dipole</td>\n      <td>4012</td>\n      <td>0.222625</td>\n      <td>0.001609</td>\n    </tr>\n    <tr>\n      <th>16</th>\n      <td>dipole</td>\n      <td>4585</td>\n      <td>0.216764</td>\n      <td>0.003440</td>\n    </tr>\n    <tr>\n      <th>17</th>\n      <td>dipole</td>\n      <td>5158</td>\n      <td>0.214202</td>\n      <td>0.001424</td>\n    </tr>\n    <tr>\n      <th>18</th>\n      <td>gap</td>\n      <td>573</td>\n      <td>0.017188</td>\n      <td>0.000671</td>\n    </tr>\n    <tr>\n      <th>19</th>\n      <td>gap</td>\n      <td>1146</td>\n      <td>0.015064</td>\n      <td>0.000320</td>\n    </tr>\n    <tr>\n      <th>20</th>\n      <td>gap</td>\n      <td>1719</td>\n      <td>0.013299</td>\n      <td>0.000211</td>\n    </tr>\n    <tr>\n      <th>21</th>\n      <td>gap</td>\n      <td>2292</td>\n      <td>0.012533</td>\n      <td>0.000314</td>\n    </tr>\n    <tr>\n      <th>22</th>\n      <td>gap</td>\n      <td>2866</td>\n      <td>0.011568</td>\n      <td>0.000088</td>\n    </tr>\n    <tr>\n      <th>23</th>\n      <td>gap</td>\n      <td>3439</td>\n      <td>0.011261</td>\n      <td>0.000142</td>\n    </tr>\n    <tr>\n      <th>24</th>\n      <td>gap</td>\n      <td>4012</td>\n      <td>0.011013</td>\n      <td>0.000111</td>\n    </tr>\n    <tr>\n      <th>25</th>\n      <td>gap</td>\n      <td>4585</td>\n      <td>0.010570</td>\n      <td>0.000049</td>\n    </tr>\n    <tr>\n      <th>26</th>\n      <td>gap</td>\n      <td>5158</td>\n      <td>0.010368</td>\n      <td>0.000089</td>\n    </tr>\n    <tr>\n      <th>27</th>\n      <td>homo</td>\n      <td>573</td>\n      <td>0.009486</td>\n      <td>0.000510</td>\n    </tr>\n    <tr>\n      <th>28</th>\n      <td>homo</td>\n      <td>1146</td>\n      <td>0.007740</td>\n      <td>0.000268</td>\n    </tr>\n    <tr>\n      <th>29</th>\n      <td>homo</td>\n      <td>1719</td>\n      <td>0.006587</td>\n      <td>0.000207</td>\n    </tr>\n    <tr>\n      <th>30</th>\n      <td>homo</td>\n      <td>2292</td>\n      <td>0.006166</td>\n      <td>0.000160</td>\n    </tr>\n    <tr>\n      <th>31</th>\n      <td>homo</td>\n      <td>2866</td>\n      <td>0.005640</td>\n      <td>0.000093</td>\n    </tr>\n    <tr>\n      <th>32</th>\n      <td>homo</td>\n      <td>3439</td>\n      <td>0.005384</td>\n      <td>0.000098</td>\n    </tr>\n    <tr>\n      <th>33</th>\n      <td>homo</td>\n      <td>4012</td>\n      <td>0.005243</td>\n      <td>0.000052</td>\n    </tr>\n    <tr>\n      <th>34</th>\n      <td>homo</td>\n      <td>4585</td>\n      <td>0.005082</td>\n      <td>0.000050</td>\n    </tr>\n    <tr>\n      <th>35</th>\n      <td>homo</td>\n      <td>5158</td>\n      <td>0.004927</td>\n      <td>0.000080</td>\n    </tr>\n  </tbody>\n</table>\n</div>"
     },
     "execution_count": 113,
     "metadata": {},
     "output_type": "execute_result"
    }
   ],
   "source": [
    "results_spahm"
   ],
   "metadata": {
    "collapsed": false,
    "ExecuteTime": {
     "end_time": "2024-11-17T18:34:47.921563Z",
     "start_time": "2024-11-17T18:34:47.916217Z"
    }
   }
  },
  {
   "cell_type": "code",
   "execution_count": null,
   "outputs": [],
   "source": [
    "comparator_results"
   ],
   "metadata": {
    "collapsed": false
   }
  },
  {
   "cell_type": "code",
   "execution_count": 72,
   "outputs": [
    {
     "ename": "KeyError",
     "evalue": "('target', 'size')",
     "output_type": "error",
     "traceback": [
      "\u001B[0;31m---------------------------------------------------------------------------\u001B[0m",
      "\u001B[0;31mKeyError\u001B[0m                                  Traceback (most recent call last)",
      "Input \u001B[0;32mIn [72]\u001B[0m, in \u001B[0;36m<cell line: 1>\u001B[0;34m()\u001B[0m\n\u001B[0;32m----> 1\u001B[0m \u001B[43mresults\u001B[49m\u001B[38;5;241;43m.\u001B[39;49m\u001B[43mgroupby\u001B[49m\u001B[43m(\u001B[49m\u001B[43m(\u001B[49m\u001B[38;5;124;43m'\u001B[39;49m\u001B[38;5;124;43mtarget\u001B[39;49m\u001B[38;5;124;43m'\u001B[39;49m\u001B[43m,\u001B[49m\u001B[43m \u001B[49m\u001B[38;5;124;43m'\u001B[39;49m\u001B[38;5;124;43msize\u001B[39;49m\u001B[38;5;124;43m'\u001B[39;49m\u001B[43m)\u001B[49m\u001B[43m)\u001B[49m[\u001B[38;5;124m'\u001B[39m\u001B[38;5;124mmae\u001B[39m\u001B[38;5;124m'\u001B[39m]\u001B[38;5;241m.\u001B[39mmean()\n",
      "File \u001B[0;32m~/.conda/envs/nbo/lib/python3.8/site-packages/pandas/core/frame.py:7718\u001B[0m, in \u001B[0;36mDataFrame.groupby\u001B[0;34m(self, by, axis, level, as_index, sort, group_keys, squeeze, observed, dropna)\u001B[0m\n\u001B[1;32m   7713\u001B[0m axis \u001B[38;5;241m=\u001B[39m \u001B[38;5;28mself\u001B[39m\u001B[38;5;241m.\u001B[39m_get_axis_number(axis)\n\u001B[1;32m   7715\u001B[0m \u001B[38;5;66;03m# https://github.com/python/mypy/issues/7642\u001B[39;00m\n\u001B[1;32m   7716\u001B[0m \u001B[38;5;66;03m# error: Argument \"squeeze\" to \"DataFrameGroupBy\" has incompatible type\u001B[39;00m\n\u001B[1;32m   7717\u001B[0m \u001B[38;5;66;03m# \"Union[bool, NoDefault]\"; expected \"bool\"\u001B[39;00m\n\u001B[0;32m-> 7718\u001B[0m \u001B[38;5;28;01mreturn\u001B[39;00m \u001B[43mDataFrameGroupBy\u001B[49m\u001B[43m(\u001B[49m\n\u001B[1;32m   7719\u001B[0m \u001B[43m    \u001B[49m\u001B[43mobj\u001B[49m\u001B[38;5;241;43m=\u001B[39;49m\u001B[38;5;28;43mself\u001B[39;49m\u001B[43m,\u001B[49m\n\u001B[1;32m   7720\u001B[0m \u001B[43m    \u001B[49m\u001B[43mkeys\u001B[49m\u001B[38;5;241;43m=\u001B[39;49m\u001B[43mby\u001B[49m\u001B[43m,\u001B[49m\n\u001B[1;32m   7721\u001B[0m \u001B[43m    \u001B[49m\u001B[43maxis\u001B[49m\u001B[38;5;241;43m=\u001B[39;49m\u001B[43maxis\u001B[49m\u001B[43m,\u001B[49m\n\u001B[1;32m   7722\u001B[0m \u001B[43m    \u001B[49m\u001B[43mlevel\u001B[49m\u001B[38;5;241;43m=\u001B[39;49m\u001B[43mlevel\u001B[49m\u001B[43m,\u001B[49m\n\u001B[1;32m   7723\u001B[0m \u001B[43m    \u001B[49m\u001B[43mas_index\u001B[49m\u001B[38;5;241;43m=\u001B[39;49m\u001B[43mas_index\u001B[49m\u001B[43m,\u001B[49m\n\u001B[1;32m   7724\u001B[0m \u001B[43m    \u001B[49m\u001B[43msort\u001B[49m\u001B[38;5;241;43m=\u001B[39;49m\u001B[43msort\u001B[49m\u001B[43m,\u001B[49m\n\u001B[1;32m   7725\u001B[0m \u001B[43m    \u001B[49m\u001B[43mgroup_keys\u001B[49m\u001B[38;5;241;43m=\u001B[39;49m\u001B[43mgroup_keys\u001B[49m\u001B[43m,\u001B[49m\n\u001B[1;32m   7726\u001B[0m \u001B[43m    \u001B[49m\u001B[43msqueeze\u001B[49m\u001B[38;5;241;43m=\u001B[39;49m\u001B[43msqueeze\u001B[49m\u001B[43m,\u001B[49m\u001B[43m  \u001B[49m\u001B[38;5;66;43;03m# type: ignore[arg-type]\u001B[39;49;00m\n\u001B[1;32m   7727\u001B[0m \u001B[43m    \u001B[49m\u001B[43mobserved\u001B[49m\u001B[38;5;241;43m=\u001B[39;49m\u001B[43mobserved\u001B[49m\u001B[43m,\u001B[49m\n\u001B[1;32m   7728\u001B[0m \u001B[43m    \u001B[49m\u001B[43mdropna\u001B[49m\u001B[38;5;241;43m=\u001B[39;49m\u001B[43mdropna\u001B[49m\u001B[43m,\u001B[49m\n\u001B[1;32m   7729\u001B[0m \u001B[43m\u001B[49m\u001B[43m)\u001B[49m\n",
      "File \u001B[0;32m~/.conda/envs/nbo/lib/python3.8/site-packages/pandas/core/groupby/groupby.py:882\u001B[0m, in \u001B[0;36mGroupBy.__init__\u001B[0;34m(self, obj, keys, axis, level, grouper, exclusions, selection, as_index, sort, group_keys, squeeze, observed, mutated, dropna)\u001B[0m\n\u001B[1;32m    879\u001B[0m \u001B[38;5;28;01mif\u001B[39;00m grouper \u001B[38;5;129;01mis\u001B[39;00m \u001B[38;5;28;01mNone\u001B[39;00m:\n\u001B[1;32m    880\u001B[0m     \u001B[38;5;28;01mfrom\u001B[39;00m \u001B[38;5;21;01mpandas\u001B[39;00m\u001B[38;5;21;01m.\u001B[39;00m\u001B[38;5;21;01mcore\u001B[39;00m\u001B[38;5;21;01m.\u001B[39;00m\u001B[38;5;21;01mgroupby\u001B[39;00m\u001B[38;5;21;01m.\u001B[39;00m\u001B[38;5;21;01mgrouper\u001B[39;00m \u001B[38;5;28;01mimport\u001B[39;00m get_grouper\n\u001B[0;32m--> 882\u001B[0m     grouper, exclusions, obj \u001B[38;5;241m=\u001B[39m \u001B[43mget_grouper\u001B[49m\u001B[43m(\u001B[49m\n\u001B[1;32m    883\u001B[0m \u001B[43m        \u001B[49m\u001B[43mobj\u001B[49m\u001B[43m,\u001B[49m\n\u001B[1;32m    884\u001B[0m \u001B[43m        \u001B[49m\u001B[43mkeys\u001B[49m\u001B[43m,\u001B[49m\n\u001B[1;32m    885\u001B[0m \u001B[43m        \u001B[49m\u001B[43maxis\u001B[49m\u001B[38;5;241;43m=\u001B[39;49m\u001B[43maxis\u001B[49m\u001B[43m,\u001B[49m\n\u001B[1;32m    886\u001B[0m \u001B[43m        \u001B[49m\u001B[43mlevel\u001B[49m\u001B[38;5;241;43m=\u001B[39;49m\u001B[43mlevel\u001B[49m\u001B[43m,\u001B[49m\n\u001B[1;32m    887\u001B[0m \u001B[43m        \u001B[49m\u001B[43msort\u001B[49m\u001B[38;5;241;43m=\u001B[39;49m\u001B[43msort\u001B[49m\u001B[43m,\u001B[49m\n\u001B[1;32m    888\u001B[0m \u001B[43m        \u001B[49m\u001B[43mobserved\u001B[49m\u001B[38;5;241;43m=\u001B[39;49m\u001B[43mobserved\u001B[49m\u001B[43m,\u001B[49m\n\u001B[1;32m    889\u001B[0m \u001B[43m        \u001B[49m\u001B[43mmutated\u001B[49m\u001B[38;5;241;43m=\u001B[39;49m\u001B[38;5;28;43mself\u001B[39;49m\u001B[38;5;241;43m.\u001B[39;49m\u001B[43mmutated\u001B[49m\u001B[43m,\u001B[49m\n\u001B[1;32m    890\u001B[0m \u001B[43m        \u001B[49m\u001B[43mdropna\u001B[49m\u001B[38;5;241;43m=\u001B[39;49m\u001B[38;5;28;43mself\u001B[39;49m\u001B[38;5;241;43m.\u001B[39;49m\u001B[43mdropna\u001B[49m\u001B[43m,\u001B[49m\n\u001B[1;32m    891\u001B[0m \u001B[43m    \u001B[49m\u001B[43m)\u001B[49m\n\u001B[1;32m    893\u001B[0m \u001B[38;5;28mself\u001B[39m\u001B[38;5;241m.\u001B[39mobj \u001B[38;5;241m=\u001B[39m obj\n\u001B[1;32m    894\u001B[0m \u001B[38;5;28mself\u001B[39m\u001B[38;5;241m.\u001B[39maxis \u001B[38;5;241m=\u001B[39m obj\u001B[38;5;241m.\u001B[39m_get_axis_number(axis)\n",
      "File \u001B[0;32m~/.conda/envs/nbo/lib/python3.8/site-packages/pandas/core/groupby/grouper.py:882\u001B[0m, in \u001B[0;36mget_grouper\u001B[0;34m(obj, key, axis, level, sort, observed, mutated, validate, dropna)\u001B[0m\n\u001B[1;32m    880\u001B[0m         in_axis, level, gpr \u001B[38;5;241m=\u001B[39m \u001B[38;5;28;01mFalse\u001B[39;00m, gpr, \u001B[38;5;28;01mNone\u001B[39;00m\n\u001B[1;32m    881\u001B[0m     \u001B[38;5;28;01melse\u001B[39;00m:\n\u001B[0;32m--> 882\u001B[0m         \u001B[38;5;28;01mraise\u001B[39;00m \u001B[38;5;167;01mKeyError\u001B[39;00m(gpr)\n\u001B[1;32m    883\u001B[0m \u001B[38;5;28;01melif\u001B[39;00m \u001B[38;5;28misinstance\u001B[39m(gpr, Grouper) \u001B[38;5;129;01mand\u001B[39;00m gpr\u001B[38;5;241m.\u001B[39mkey \u001B[38;5;129;01mis\u001B[39;00m \u001B[38;5;129;01mnot\u001B[39;00m \u001B[38;5;28;01mNone\u001B[39;00m:\n\u001B[1;32m    884\u001B[0m     \u001B[38;5;66;03m# Add key to exclusions\u001B[39;00m\n\u001B[1;32m    885\u001B[0m     exclusions\u001B[38;5;241m.\u001B[39madd(gpr\u001B[38;5;241m.\u001B[39mkey)\n",
      "\u001B[0;31mKeyError\u001B[0m: ('target', 'size')"
     ]
    }
   ],
   "source": [
    "results.groupby('target', 'size')['mae'].mean()"
   ],
   "metadata": {
    "collapsed": false,
    "ExecuteTime": {
     "end_time": "2024-11-14T16:20:24.651974Z",
     "start_time": "2024-11-14T16:20:24.172733Z"
    }
   }
  },
  {
   "cell_type": "code",
   "execution_count": 57,
   "outputs": [],
   "source": [
    "\n",
    "X = np.load('/home/dboiko/SPAHM/SPAHM/1_QM7/representations_SPAHM/LB.minao.npy')\n",
    "y = np.loadtxt('/home/dboiko/SPAHM/SPAHM/1_QM7/target/atomization.dat')"
   ],
   "metadata": {
    "collapsed": false,
    "ExecuteTime": {
     "end_time": "2024-11-08T16:59:56.908897Z",
     "start_time": "2024-11-08T16:59:56.898289Z"
    }
   }
  },
  {
   "cell_type": "code",
   "execution_count": 58,
   "outputs": [],
   "source": [
    "test_idx = np.loadtxt('/home/dboiko/SPAHM/test-indices/QM7_test_indices.dat').astype(int)"
   ],
   "metadata": {
    "collapsed": false,
    "ExecuteTime": {
     "end_time": "2024-11-08T16:59:57.605395Z",
     "start_time": "2024-11-08T16:59:57.567550Z"
    }
   }
  },
  {
   "cell_type": "code",
   "execution_count": 59,
   "outputs": [],
   "source": [
    "selected_kernel = laplacian_kernel\n",
    "test_size = 0.2\n",
    "# sigma=10 gap\n",
    "sigma=31.622777\n",
    "eta=1e-5\n",
    "n_rep=5"
   ],
   "metadata": {
    "collapsed": false,
    "ExecuteTime": {
     "end_time": "2024-11-08T16:59:58.216486Z",
     "start_time": "2024-11-08T16:59:58.216220Z"
    }
   }
  },
  {
   "cell_type": "code",
   "execution_count": 60,
   "outputs": [],
   "source": [
    "train_indices = np.array([i for i in range(X.shape[0]) if i not in test_idx])"
   ],
   "metadata": {
    "collapsed": false,
    "ExecuteTime": {
     "end_time": "2024-11-08T16:59:58.670091Z",
     "start_time": "2024-11-08T16:59:58.639171Z"
    }
   }
  },
  {
   "cell_type": "code",
   "execution_count": 61,
   "outputs": [],
   "source": [
    "X_train, X_test, y_train, y_test = X[train_indices], X[test_idx], y[train_indices], y[test_idx]\n",
    "\n",
    "all_indices_train = np.arange(X_train.shape[0])\n",
    "K_all  = laplacian_kernel(X_train, X_train, 1.0/sigma)\n",
    "Ks_all = laplacian_kernel(X_test,  X_train, 1.0/sigma)\n",
    "K_all[np.diag_indices_from(K_all)] += eta\n",
    "\n",
    "np.random.seed(42)\n",
    "\n",
    "train_size = np.linspace(0.1, 0.9, 9)"
   ],
   "metadata": {
    "collapsed": false,
    "ExecuteTime": {
     "end_time": "2024-11-08T16:59:59.895497Z",
     "start_time": "2024-11-08T16:59:58.956788Z"
    }
   }
  },
  {
   "cell_type": "code",
   "execution_count": 62,
   "outputs": [
    {
     "name": "stderr",
     "output_type": "stream",
     "text": [
      "100%|█████████████████████████████████████████████████████████████████████████████████████████████████████████████████| 9/9 [00:11<00:00,  1.32s/it]\n"
     ]
    }
   ],
   "source": [
    "results = []\n",
    "\n",
    "for size in tqdm(train_size):\n",
    "    size_train = int(np.floor(X_train.shape[0]*size))\n",
    "    maes = []\n",
    "    for rep in range(n_rep):\n",
    "        train_idx = np.random.choice(all_indices_train, size = size_train, replace=False)\n",
    "        y_kf_train = y_train[train_idx]\n",
    "        K  = K_all [np.ix_(train_idx,train_idx)]\n",
    "        Ks = Ks_all[:,train_idx]\n",
    "        alpha = np.linalg.solve(K, y_kf_train)\n",
    "        y_kf_predict = np.dot(Ks, alpha)\n",
    "        maes.append(np.mean(np.abs(y_test-y_kf_predict)))\n",
    "\n",
    "    results.append({\n",
    "        'size': size_train,\n",
    "        'mae': np.mean(maes),\n",
    "        'std': np.std(maes)\n",
    "    })\n",
    "\n",
    "results = pd.DataFrame(results)"
   ],
   "metadata": {
    "collapsed": false,
    "ExecuteTime": {
     "end_time": "2024-11-08T17:00:11.777296Z",
     "start_time": "2024-11-08T16:59:59.895722Z"
    }
   }
  },
  {
   "cell_type": "code",
   "execution_count": 63,
   "outputs": [],
   "source": [
    "results.to_csv('results_spahm.csv', index=False)"
   ],
   "metadata": {
    "collapsed": false,
    "ExecuteTime": {
     "end_time": "2024-11-08T17:00:16.075564Z",
     "start_time": "2024-11-08T17:00:16.074076Z"
    }
   }
  },
  {
   "cell_type": "code",
   "execution_count": 64,
   "outputs": [
    {
     "data": {
      "text/plain": "<matplotlib.collections.PathCollection at 0x7f3f153490a0>"
     },
     "execution_count": 64,
     "metadata": {},
     "output_type": "execute_result"
    },
    {
     "data": {
      "text/plain": "<Figure size 432x288 with 1 Axes>",
      "image/png": "[encoded data removed]"
     },
     "metadata": {
      "needs_background": "light"
     },
     "output_type": "display_data"
    }
   ],
   "source": [
    "import matplotlib.pyplot as plt\n",
    "plt.scatter(\n",
    "    y_test,\n",
    "    y_kf_predict,\n",
    "    s=1\n",
    ")"
   ],
   "metadata": {
    "collapsed": false,
    "ExecuteTime": {
     "end_time": "2024-11-08T17:00:16.597041Z",
     "start_time": "2024-11-08T17:00:16.517677Z"
    }
   }
  },
  {
   "cell_type": "code",
   "execution_count": 65,
   "outputs": [
    {
     "data": {
      "text/plain": "3.2675255789816515"
     },
     "execution_count": 65,
     "metadata": {},
     "output_type": "execute_result"
    }
   ],
   "source": [
    "np.abs(y_test-y_kf_predict).mean()"
   ],
   "metadata": {
    "collapsed": false,
    "ExecuteTime": {
     "end_time": "2024-11-08T17:00:17.800934Z",
     "start_time": "2024-11-08T17:00:17.795295Z"
    }
   }
  },
  {
   "cell_type": "code",
   "execution_count": 66,
   "outputs": [
    {
     "data": {
      "text/plain": "54.37592768562225"
     },
     "execution_count": 66,
     "metadata": {},
     "output_type": "execute_result"
    }
   ],
   "source": [
    "((y_test-y_kf_predict)**2).mean()"
   ],
   "metadata": {
    "collapsed": false,
    "ExecuteTime": {
     "end_time": "2024-11-08T17:01:22.415648Z",
     "start_time": "2024-11-08T17:01:22.414705Z"
    }
   }
  },
  {
   "cell_type": "code",
   "execution_count": 47,
   "outputs": [
    {
     "data": {
      "text/plain": "   size       mae       std\n0   573  0.016173  0.000488\n1  1146  0.014698  0.000146\n2  1719  0.013517  0.000180\n3  2292  0.012704  0.000293\n4  2866  0.012091  0.000161\n5  3439  0.011757  0.000131\n6  4012  0.011547  0.000145\n7  4585  0.011174  0.000072\n8  5158  0.011078  0.000047",
      "text/html": "<div>\n<style scoped>\n    .dataframe tbody tr th:only-of-type {\n        vertical-align: middle;\n    }\n\n    .dataframe tbody tr th {\n        vertical-align: top;\n    }\n\n    .dataframe thead th {\n        text-align: right;\n    }\n</style>\n<table border=\"1\" class=\"dataframe\">\n  <thead>\n    <tr style=\"text-align: right;\">\n      <th></th>\n      <th>size</th>\n      <th>mae</th>\n      <th>std</th>\n    </tr>\n  </thead>\n  <tbody>\n    <tr>\n      <th>0</th>\n      <td>573</td>\n      <td>0.016173</td>\n      <td>0.000488</td>\n    </tr>\n    <tr>\n      <th>1</th>\n      <td>1146</td>\n      <td>0.014698</td>\n      <td>0.000146</td>\n    </tr>\n    <tr>\n      <th>2</th>\n      <td>1719</td>\n      <td>0.013517</td>\n      <td>0.000180</td>\n    </tr>\n    <tr>\n      <th>3</th>\n      <td>2292</td>\n      <td>0.012704</td>\n      <td>0.000293</td>\n    </tr>\n    <tr>\n      <th>4</th>\n      <td>2866</td>\n      <td>0.012091</td>\n      <td>0.000161</td>\n    </tr>\n    <tr>\n      <th>5</th>\n      <td>3439</td>\n      <td>0.011757</td>\n      <td>0.000131</td>\n    </tr>\n    <tr>\n      <th>6</th>\n      <td>4012</td>\n      <td>0.011547</td>\n      <td>0.000145</td>\n    </tr>\n    <tr>\n      <th>7</th>\n      <td>4585</td>\n      <td>0.011174</td>\n      <td>0.000072</td>\n    </tr>\n    <tr>\n      <th>8</th>\n      <td>5158</td>\n      <td>0.011078</td>\n      <td>0.000047</td>\n    </tr>\n  </tbody>\n</table>\n</div>"
     },
     "execution_count": 47,
     "metadata": {},
     "output_type": "execute_result"
    }
   ],
   "source": [
    "results"
   ],
   "metadata": {
    "collapsed": false,
    "ExecuteTime": {
     "end_time": "2024-11-08T07:25:50.328566Z",
     "start_time": "2024-11-08T07:25:50.311200Z"
    }
   }
  },
  {
   "cell_type": "code",
   "execution_count": 29,
   "outputs": [],
   "source": [
    "X = np.stack(np.load('X_CM.npy', allow_pickle=True))"
   ],
   "metadata": {
    "collapsed": false,
    "ExecuteTime": {
     "end_time": "2024-11-06T04:03:57.525697Z",
     "start_time": "2024-11-06T04:03:57.498569Z"
    }
   }
  },
  {
   "cell_type": "code",
   "execution_count": 32,
   "outputs": [
    {
     "name": "stderr",
     "output_type": "stream",
     "text": [
      "100%|████████████████████████████████████████████████████████████████████████████████████████████████████████████████████████████████| 9/9 [00:18<00:00,  2.07s/it]\n"
     ]
    }
   ],
   "source": [
    "X_train, X_test, y_train, y_test = X[train_indices], X[test_indices], y[train_indices], y[test_indices]\n",
    "\n",
    "all_indices_train = np.arange(X_train.shape[0])\n",
    "K_all  = laplacian_kernel(X_train, X_train, 1.0/sigma)\n",
    "Ks_all = laplacian_kernel(X_test,  X_train, 1.0/sigma)\n",
    "K_all[np.diag_indices_from(K_all)] += eta\n",
    "\n",
    "np.random.seed(42)\n",
    "results = []\n",
    "\n",
    "for size in tqdm(train_size):\n",
    "    size_train = int(np.floor(X_train.shape[0]*size))\n",
    "    maes = []\n",
    "    for rep in range(n_rep):\n",
    "        train_idx = np.random.choice(all_indices_train, size = size_train, replace=False)\n",
    "        y_kf_train = y_train[train_idx]\n",
    "        K  = K_all [np.ix_(train_idx,train_idx)]\n",
    "        Ks = Ks_all[:,train_idx]\n",
    "        alpha = np.linalg.solve(K, y_kf_train)\n",
    "        y_kf_predict = np.dot(Ks, alpha)\n",
    "        maes.append(np.mean(np.abs(y_test-y_kf_predict)))\n",
    "\n",
    "    results.append({\n",
    "        'size': size_train,\n",
    "        'mae': np.mean(maes),\n",
    "        'std': np.std(maes)\n",
    "    })\n",
    "\n",
    "results = pd.DataFrame(results)"
   ],
   "metadata": {
    "collapsed": false,
    "ExecuteTime": {
     "end_time": "2024-11-06T04:04:23.694386Z",
     "start_time": "2024-11-06T04:04:03.713041Z"
    }
   }
  },
  {
   "cell_type": "code",
   "execution_count": 33,
   "outputs": [],
   "source": [
    "results.to_csv('results_cm.csv', index=False)"
   ],
   "metadata": {
    "collapsed": false,
    "ExecuteTime": {
     "end_time": "2024-11-06T04:04:23.792417Z",
     "start_time": "2024-11-06T04:04:23.699179Z"
    }
   }
  },
  {
   "cell_type": "code",
   "execution_count": 34,
   "outputs": [
    {
     "data": {
      "text/plain": "   size        mae       std\n0   568  61.130995  1.343586\n1  1136  47.820215  0.474877\n2  1704  41.682791  0.802713\n3  2272  38.649581  0.494135\n4  2840  35.153820  0.450689\n5  3408  33.226622  0.406923\n6  3976  31.740046  0.234991\n7  4544  30.400880  0.319176\n8  5112  28.790721  0.200000",
      "text/html": "<div>\n<style scoped>\n    .dataframe tbody tr th:only-of-type {\n        vertical-align: middle;\n    }\n\n    .dataframe tbody tr th {\n        vertical-align: top;\n    }\n\n    .dataframe thead th {\n        text-align: right;\n    }\n</style>\n<table border=\"1\" class=\"dataframe\">\n  <thead>\n    <tr style=\"text-align: right;\">\n      <th></th>\n      <th>size</th>\n      <th>mae</th>\n      <th>std</th>\n    </tr>\n  </thead>\n  <tbody>\n    <tr>\n      <th>0</th>\n      <td>568</td>\n      <td>61.130995</td>\n      <td>1.343586</td>\n    </tr>\n    <tr>\n      <th>1</th>\n      <td>1136</td>\n      <td>47.820215</td>\n      <td>0.474877</td>\n    </tr>\n    <tr>\n      <th>2</th>\n      <td>1704</td>\n      <td>41.682791</td>\n      <td>0.802713</td>\n    </tr>\n    <tr>\n      <th>3</th>\n      <td>2272</td>\n      <td>38.649581</td>\n      <td>0.494135</td>\n    </tr>\n    <tr>\n      <th>4</th>\n      <td>2840</td>\n      <td>35.153820</td>\n      <td>0.450689</td>\n    </tr>\n    <tr>\n      <th>5</th>\n      <td>3408</td>\n      <td>33.226622</td>\n      <td>0.406923</td>\n    </tr>\n    <tr>\n      <th>6</th>\n      <td>3976</td>\n      <td>31.740046</td>\n      <td>0.234991</td>\n    </tr>\n    <tr>\n      <th>7</th>\n      <td>4544</td>\n      <td>30.400880</td>\n      <td>0.319176</td>\n    </tr>\n    <tr>\n      <th>8</th>\n      <td>5112</td>\n      <td>28.790721</td>\n      <td>0.200000</td>\n    </tr>\n  </tbody>\n</table>\n</div>"
     },
     "execution_count": 34,
     "metadata": {},
     "output_type": "execute_result"
    }
   ],
   "source": [
    "results"
   ],
   "metadata": {
    "collapsed": false,
    "ExecuteTime": {
     "end_time": "2024-11-06T04:04:24.287129Z",
     "start_time": "2024-11-06T04:04:24.267246Z"
    }
   }
  },
  {
   "cell_type": "code",
   "execution_count": 35,
   "outputs": [
    {
     "data": {
      "text/plain": "<matplotlib.legend.Legend at 0x7f443bf9f2e0>"
     },
     "execution_count": 35,
     "metadata": {},
     "output_type": "execute_result"
    },
    {
     "data": {
      "text/plain": "<Figure size 720x432 with 1 Axes>",
      "image/png": "[encoded data removed]"
     },
     "metadata": {
      "needs_background": "light"
     },
     "output_type": "display_data"
    }
   ],
   "source": [
    "import matplotlib.pyplot as plt\n",
    "\n",
    "results = pd.read_csv('results_spahm.csv')\n",
    "results_cm = pd.read_csv('results_cm.csv')\n",
    "\n",
    "plt.figure(figsize=(10,6))\n",
    "plt.errorbar(results['size'], results['mae'], yerr=results['std'], label='SPAHM')\n",
    "plt.errorbar(results_cm['size'], results_cm['mae'], yerr=results_cm['std'], label='CM')\n",
    "plt.xlabel('Training set size')\n",
    "plt.ylabel('MAE')\n",
    "plt.legend()"
   ],
   "metadata": {
    "collapsed": false,
    "ExecuteTime": {
     "end_time": "2024-11-06T04:04:43.101735Z",
     "start_time": "2024-11-06T04:04:41.954306Z"
    }
   }
  }
 ],
 "metadata": {
  "kernelspec": {
   "display_name": "Python 3",
   "language": "python",
   "name": "python3"
  },
  "language_info": {
   "codemirror_mode": {
    "name": "ipython",
    "version": 2
   },
   "file_extension": ".py",
   "mimetype": "text/x-python",
   "name": "python",
   "nbconvert_exporter": "python",
   "pygments_lexer": "ipython2",
   "version": "2.7.6"
  }
 },
 "nbformat": 4,
 "nbformat_minor": 0
}
