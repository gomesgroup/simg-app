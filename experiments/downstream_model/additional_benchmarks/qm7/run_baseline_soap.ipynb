{
 "cells": [
  {
   "cell_type": "code",
   "execution_count": 1,
   "outputs": [
    {
     "name": "stderr",
     "output_type": "stream",
     "text": [
      "/home/dboiko/.conda/envs/nbo/lib/python3.8/site-packages/tqdm/auto.py:22: TqdmWarning: IProgress not found. Please update jupyter and ipywidgets. See https://ipywidgets.readthedocs.io/en/stable/user_install.html\n",
      "  from .autonotebook import tqdm as notebook_tqdm\n"
     ]
    }
   ],
   "source": [
    "import pandas as pd\n",
    "import numpy as np\n",
    "from tqdm.auto import tqdm\n",
    "\n",
    "from sklearn.metrics.pairwise import rbf_kernel\n",
    "from sklearn.metrics.pairwise import laplacian_kernel\n",
    "from sklearn.model_selection import train_test_split"
   ],
   "metadata": {
    "collapsed": false,
    "ExecuteTime": {
     "end_time": "2024-11-17T05:51:33.085025Z",
     "start_time": "2024-11-17T05:51:32.438367Z"
    }
   }
  },
  {
   "cell_type": "code",
   "execution_count": 2,
   "outputs": [],
   "source": [
    "X = np.load('/home/dboiko/simg-2/experiments/downstream_model/additional_benchmarks/qm7/soap_qm7.npy')"
   ],
   "metadata": {
    "collapsed": false,
    "ExecuteTime": {
     "end_time": "2024-11-17T05:51:37.832243Z",
     "start_time": "2024-11-17T05:51:37.809984Z"
    }
   }
  },
  {
   "cell_type": "code",
   "execution_count": 16,
   "outputs": [
    {
     "name": "stderr",
     "output_type": "stream",
     "text": [
      "100%|█████████████████████████████████████████████████████████████████████████████████████████████████████████████████| 9/9 [00:11<00:00,  1.30s/it]\n",
      "100%|█████████████████████████████████████████████████████████████████████████████████████████████████████████████████| 9/9 [00:11<00:00,  1.30s/it]\n",
      "100%|█████████████████████████████████████████████████████████████████████████████████████████████████████████████████| 9/9 [00:11<00:00,  1.31s/it]\n",
      "100%|█████████████████████████████████████████████████████████████████████████████████████████████████████████████████| 9/9 [00:11<00:00,  1.28s/it]\n"
     ]
    }
   ],
   "source": [
    "results = []\n",
    "\n",
    "for target in [\"atomization\", \"dipole\", \"gap\", \"homo\"]:\n",
    "    y = np.loadtxt(f'/home/dboiko/SPAHM/SPAHM/1_QM7/target/{target}.dat')\n",
    "\n",
    "    test_idx = np.loadtxt('/home/dboiko/SPAHM/test-indices/QM7_test_indices.dat').astype(int)\n",
    "    train_indices = np.array([i for i in range(X.shape[0]) if i not in test_idx])\n",
    "\n",
    "    test_size = 0.2\n",
    "    sigma=500\n",
    "    eta=1e-5\n",
    "    n_rep=5\n",
    "\n",
    "    X_train, X_test, y_train, y_test = X[train_indices], X[test_idx], y[train_indices], y[test_idx]\n",
    "\n",
    "    all_indices_train = np.arange(X_train.shape[0])\n",
    "    K_all  = laplacian_kernel(X_train, X_train, 1.0/sigma)\n",
    "    Ks_all = laplacian_kernel(X_test,  X_train, 1.0/sigma)\n",
    "    K_all[np.diag_indices_from(K_all)] += eta\n",
    "\n",
    "    np.random.seed(42)\n",
    "\n",
    "    train_size = np.linspace(0.1, 0.9, 9)\n",
    "\n",
    "    for size in tqdm(train_size):\n",
    "        size_train = int(np.floor(X_train.shape[0]*size))\n",
    "        maes = []\n",
    "        for rep in range(n_rep):\n",
    "            train_idx = np.random.choice(all_indices_train, size = size_train, replace=False)\n",
    "            y_kf_train = y_train[train_idx]\n",
    "            K  = K_all [np.ix_(train_idx,train_idx)]\n",
    "            Ks = Ks_all[:,train_idx]\n",
    "            alpha = np.linalg.solve(K, y_kf_train)\n",
    "            y_kf_predict = np.dot(Ks, alpha)\n",
    "            maes.append(np.mean(np.abs(y_test-y_kf_predict)))\n",
    "\n",
    "        results.append({\n",
    "            'target': target,\n",
    "            'size': size_train,\n",
    "            'mae': np.mean(maes),\n",
    "            'std': np.std(maes)\n",
    "        })\n",
    "\n",
    "results = pd.DataFrame(results)"
   ],
   "metadata": {
    "collapsed": false,
    "ExecuteTime": {
     "end_time": "2024-11-17T19:28:55.799193Z",
     "start_time": "2024-11-17T19:26:04.721462Z"
    }
   }
  },
  {
   "cell_type": "code",
   "execution_count": 15,
   "outputs": [],
   "source": [
    "results.to_csv('1117_results_soap.csv', index=False)"
   ],
   "metadata": {
    "collapsed": false,
    "ExecuteTime": {
     "end_time": "2024-11-17T19:24:30.720396Z",
     "start_time": "2024-11-17T19:24:30.720122Z"
    }
   }
  },
  {
   "cell_type": "code",
   "execution_count": 13,
   "outputs": [
    {
     "data": {
      "text/plain": "         target  size        mae       std\n0   atomization   573  44.364747  0.808804\n1   atomization  1146  37.019602  1.134151\n2   atomization  1719  32.883900  0.771789\n3   atomization  2292  29.618085  0.179845\n4   atomization  2866  28.090769  0.277536\n5   atomization  3439  26.172057  0.505945\n6   atomization  4012  25.011557  0.279311\n7   atomization  4585  24.155793  0.172250\n8   atomization  5158  22.832659  0.106332\n9        dipole   573   0.253562  0.005765\n10       dipole  1146   0.220895  0.003972\n11       dipole  1719   0.208414  0.001452\n12       dipole  2292   0.194750  0.001762\n13       dipole  2866   0.188814  0.002272\n14       dipole  3439   0.180027  0.001617\n15       dipole  4012   0.173317  0.002951\n16       dipole  4585   0.169919  0.001008\n17       dipole  5158   0.166870  0.001103\n18          gap   573   0.018162  0.000320\n19          gap  1146   0.016419  0.000335\n20          gap  1719   0.015643  0.000249\n21          gap  2292   0.015178  0.000233\n22          gap  2866   0.014472  0.000120\n23          gap  3439   0.014359  0.000204\n24          gap  4012   0.013923  0.000095\n25          gap  4585   0.013708  0.000107\n26          gap  5158   0.013430  0.000094\n27         homo   573   0.011734  0.000287\n28         homo  1146   0.010636  0.000213\n29         homo  1719   0.009936  0.000156\n30         homo  2292   0.009564  0.000084\n31         homo  2866   0.009158  0.000177\n32         homo  3439   0.008980  0.000127\n33         homo  4012   0.008725  0.000085\n34         homo  4585   0.008587  0.000067\n35         homo  5158   0.008338  0.000029",
      "text/html": "<div>\n<style scoped>\n    .dataframe tbody tr th:only-of-type {\n        vertical-align: middle;\n    }\n\n    .dataframe tbody tr th {\n        vertical-align: top;\n    }\n\n    .dataframe thead th {\n        text-align: right;\n    }\n</style>\n<table border=\"1\" class=\"dataframe\">\n  <thead>\n    <tr style=\"text-align: right;\">\n      <th></th>\n      <th>target</th>\n      <th>size</th>\n      <th>mae</th>\n      <th>std</th>\n    </tr>\n  </thead>\n  <tbody>\n    <tr>\n      <th>0</th>\n      <td>atomization</td>\n      <td>573</td>\n      <td>44.364747</td>\n      <td>0.808804</td>\n    </tr>\n    <tr>\n      <th>1</th>\n      <td>atomization</td>\n      <td>1146</td>\n      <td>37.019602</td>\n      <td>1.134151</td>\n    </tr>\n    <tr>\n      <th>2</th>\n      <td>atomization</td>\n      <td>1719</td>\n      <td>32.883900</td>\n      <td>0.771789</td>\n    </tr>\n    <tr>\n      <th>3</th>\n      <td>atomization</td>\n      <td>2292</td>\n      <td>29.618085</td>\n      <td>0.179845</td>\n    </tr>\n    <tr>\n      <th>4</th>\n      <td>atomization</td>\n      <td>2866</td>\n      <td>28.090769</td>\n      <td>0.277536</td>\n    </tr>\n    <tr>\n      <th>5</th>\n      <td>atomization</td>\n      <td>3439</td>\n      <td>26.172057</td>\n      <td>0.505945</td>\n    </tr>\n    <tr>\n      <th>6</th>\n      <td>atomization</td>\n      <td>4012</td>\n      <td>25.011557</td>\n      <td>0.279311</td>\n    </tr>\n    <tr>\n      <th>7</th>\n      <td>atomization</td>\n      <td>4585</td>\n      <td>24.155793</td>\n      <td>0.172250</td>\n    </tr>\n    <tr>\n      <th>8</th>\n      <td>atomization</td>\n      <td>5158</td>\n      <td>22.832659</td>\n      <td>0.106332</td>\n    </tr>\n    <tr>\n      <th>9</th>\n      <td>dipole</td>\n      <td>573</td>\n      <td>0.253562</td>\n      <td>0.005765</td>\n    </tr>\n    <tr>\n      <th>10</th>\n      <td>dipole</td>\n      <td>1146</td>\n      <td>0.220895</td>\n      <td>0.003972</td>\n    </tr>\n    <tr>\n      <th>11</th>\n      <td>dipole</td>\n      <td>1719</td>\n      <td>0.208414</td>\n      <td>0.001452</td>\n    </tr>\n    <tr>\n      <th>12</th>\n      <td>dipole</td>\n      <td>2292</td>\n      <td>0.194750</td>\n      <td>0.001762</td>\n    </tr>\n    <tr>\n      <th>13</th>\n      <td>dipole</td>\n      <td>2866</td>\n      <td>0.188814</td>\n      <td>0.002272</td>\n    </tr>\n    <tr>\n      <th>14</th>\n      <td>dipole</td>\n      <td>3439</td>\n      <td>0.180027</td>\n      <td>0.001617</td>\n    </tr>\n    <tr>\n      <th>15</th>\n      <td>dipole</td>\n      <td>4012</td>\n      <td>0.173317</td>\n      <td>0.002951</td>\n    </tr>\n    <tr>\n      <th>16</th>\n      <td>dipole</td>\n      <td>4585</td>\n      <td>0.169919</td>\n      <td>0.001008</td>\n    </tr>\n    <tr>\n      <th>17</th>\n      <td>dipole</td>\n      <td>5158</td>\n      <td>0.166870</td>\n      <td>0.001103</td>\n    </tr>\n    <tr>\n      <th>18</th>\n      <td>gap</td>\n      <td>573</td>\n      <td>0.018162</td>\n      <td>0.000320</td>\n    </tr>\n    <tr>\n      <th>19</th>\n      <td>gap</td>\n      <td>1146</td>\n      <td>0.016419</td>\n      <td>0.000335</td>\n    </tr>\n    <tr>\n      <th>20</th>\n      <td>gap</td>\n      <td>1719</td>\n      <td>0.015643</td>\n      <td>0.000249</td>\n    </tr>\n    <tr>\n      <th>21</th>\n      <td>gap</td>\n      <td>2292</td>\n      <td>0.015178</td>\n      <td>0.000233</td>\n    </tr>\n    <tr>\n      <th>22</th>\n      <td>gap</td>\n      <td>2866</td>\n      <td>0.014472</td>\n      <td>0.000120</td>\n    </tr>\n    <tr>\n      <th>23</th>\n      <td>gap</td>\n      <td>3439</td>\n      <td>0.014359</td>\n      <td>0.000204</td>\n    </tr>\n    <tr>\n      <th>24</th>\n      <td>gap</td>\n      <td>4012</td>\n      <td>0.013923</td>\n      <td>0.000095</td>\n    </tr>\n    <tr>\n      <th>25</th>\n      <td>gap</td>\n      <td>4585</td>\n      <td>0.013708</td>\n      <td>0.000107</td>\n    </tr>\n    <tr>\n      <th>26</th>\n      <td>gap</td>\n      <td>5158</td>\n      <td>0.013430</td>\n      <td>0.000094</td>\n    </tr>\n    <tr>\n      <th>27</th>\n      <td>homo</td>\n      <td>573</td>\n      <td>0.011734</td>\n      <td>0.000287</td>\n    </tr>\n    <tr>\n      <th>28</th>\n      <td>homo</td>\n      <td>1146</td>\n      <td>0.010636</td>\n      <td>0.000213</td>\n    </tr>\n    <tr>\n      <th>29</th>\n      <td>homo</td>\n      <td>1719</td>\n      <td>0.009936</td>\n      <td>0.000156</td>\n    </tr>\n    <tr>\n      <th>30</th>\n      <td>homo</td>\n      <td>2292</td>\n      <td>0.009564</td>\n      <td>0.000084</td>\n    </tr>\n    <tr>\n      <th>31</th>\n      <td>homo</td>\n      <td>2866</td>\n      <td>0.009158</td>\n      <td>0.000177</td>\n    </tr>\n    <tr>\n      <th>32</th>\n      <td>homo</td>\n      <td>3439</td>\n      <td>0.008980</td>\n      <td>0.000127</td>\n    </tr>\n    <tr>\n      <th>33</th>\n      <td>homo</td>\n      <td>4012</td>\n      <td>0.008725</td>\n      <td>0.000085</td>\n    </tr>\n    <tr>\n      <th>34</th>\n      <td>homo</td>\n      <td>4585</td>\n      <td>0.008587</td>\n      <td>0.000067</td>\n    </tr>\n    <tr>\n      <th>35</th>\n      <td>homo</td>\n      <td>5158</td>\n      <td>0.008338</td>\n      <td>0.000029</td>\n    </tr>\n  </tbody>\n</table>\n</div>"
     },
     "execution_count": 13,
     "metadata": {},
     "output_type": "execute_result"
    }
   ],
   "source": [
    "results"
   ],
   "metadata": {
    "collapsed": false,
    "ExecuteTime": {
     "end_time": "2024-11-17T19:24:02.439126Z",
     "start_time": "2024-11-17T19:24:02.434852Z"
    }
   }
  },
  {
   "cell_type": "code",
   "execution_count": 5,
   "outputs": [
    {
     "data": {
      "text/plain": "<matplotlib.collections.PathCollection at 0x7f9280490b80>"
     },
     "execution_count": 5,
     "metadata": {},
     "output_type": "execute_result"
    },
    {
     "data": {
      "text/plain": "<Figure size 432x288 with 1 Axes>",
      "image/png": "[encoded data removed]"
     },
     "metadata": {
      "needs_background": "light"
     },
     "output_type": "display_data"
    }
   ],
   "source": [
    "import matplotlib.pyplot as plt\n",
    "\n",
    "plt.scatter(\n",
    "    y_test,\n",
    "    y_kf_predict,\n",
    "    s=1\n",
    ")"
   ],
   "metadata": {
    "collapsed": false,
    "ExecuteTime": {
     "end_time": "2024-11-17T05:52:24.882287Z",
     "start_time": "2024-11-17T05:52:24.247317Z"
    }
   }
  },
  {
   "cell_type": "code",
   "execution_count": null,
   "outputs": [],
   "source": [],
   "metadata": {
    "collapsed": false
   }
  }
 ],
 "metadata": {
  "kernelspec": {
   "display_name": "Python 3",
   "language": "python",
   "name": "python3"
  },
  "language_info": {
   "codemirror_mode": {
    "name": "ipython",
    "version": 2
   },
   "file_extension": ".py",
   "mimetype": "text/x-python",
   "name": "python",
   "nbconvert_exporter": "python",
   "pygments_lexer": "ipython2",
   "version": "2.7.6"
  }
 },
 "nbformat": 4,
 "nbformat_minor": 0
}
